{
  "cells": [
    {
      "cell_type": "markdown",
      "source": [
        "Installing datasets to load the required dataset from hugging face"
      ],
      "metadata": {
        "id": "eJqexixl8dmE"
      }
    },
    {
      "cell_type": "code",
      "execution_count": 17,
      "metadata": {
        "colab": {
          "base_uri": "https://localhost:8080/"
        },
        "id": "v6Jqq2Zg94PX",
        "outputId": "12e5b57c-7edf-4a43-bddd-3750febf4bba"
      },
      "outputs": [
        {
          "output_type": "stream",
          "name": "stdout",
          "text": [
            "Requirement already satisfied: datasets in /usr/local/lib/python3.10/dist-packages (2.14.5)\n",
            "Requirement already satisfied: numpy>=1.17 in /usr/local/lib/python3.10/dist-packages (from datasets) (1.23.5)\n",
            "Requirement already satisfied: pyarrow>=8.0.0 in /usr/local/lib/python3.10/dist-packages (from datasets) (9.0.0)\n",
            "Requirement already satisfied: dill<0.3.8,>=0.3.0 in /usr/local/lib/python3.10/dist-packages (from datasets) (0.3.7)\n",
            "Requirement already satisfied: pandas in /usr/local/lib/python3.10/dist-packages (from datasets) (1.5.3)\n",
            "Requirement already satisfied: requests>=2.19.0 in /usr/local/lib/python3.10/dist-packages (from datasets) (2.31.0)\n",
            "Requirement already satisfied: tqdm>=4.62.1 in /usr/local/lib/python3.10/dist-packages (from datasets) (4.66.1)\n",
            "Requirement already satisfied: xxhash in /usr/local/lib/python3.10/dist-packages (from datasets) (3.3.0)\n",
            "Requirement already satisfied: multiprocess in /usr/local/lib/python3.10/dist-packages (from datasets) (0.70.15)\n",
            "Requirement already satisfied: fsspec[http]<2023.9.0,>=2023.1.0 in /usr/local/lib/python3.10/dist-packages (from datasets) (2023.6.0)\n",
            "Requirement already satisfied: aiohttp in /usr/local/lib/python3.10/dist-packages (from datasets) (3.8.5)\n",
            "Requirement already satisfied: huggingface-hub<1.0.0,>=0.14.0 in /usr/local/lib/python3.10/dist-packages (from datasets) (0.17.2)\n",
            "Requirement already satisfied: packaging in /usr/local/lib/python3.10/dist-packages (from datasets) (23.1)\n",
            "Requirement already satisfied: pyyaml>=5.1 in /usr/local/lib/python3.10/dist-packages (from datasets) (6.0.1)\n",
            "Requirement already satisfied: attrs>=17.3.0 in /usr/local/lib/python3.10/dist-packages (from aiohttp->datasets) (23.1.0)\n",
            "Requirement already satisfied: charset-normalizer<4.0,>=2.0 in /usr/local/lib/python3.10/dist-packages (from aiohttp->datasets) (3.2.0)\n",
            "Requirement already satisfied: multidict<7.0,>=4.5 in /usr/local/lib/python3.10/dist-packages (from aiohttp->datasets) (6.0.4)\n",
            "Requirement already satisfied: async-timeout<5.0,>=4.0.0a3 in /usr/local/lib/python3.10/dist-packages (from aiohttp->datasets) (4.0.3)\n",
            "Requirement already satisfied: yarl<2.0,>=1.0 in /usr/local/lib/python3.10/dist-packages (from aiohttp->datasets) (1.9.2)\n",
            "Requirement already satisfied: frozenlist>=1.1.1 in /usr/local/lib/python3.10/dist-packages (from aiohttp->datasets) (1.4.0)\n",
            "Requirement already satisfied: aiosignal>=1.1.2 in /usr/local/lib/python3.10/dist-packages (from aiohttp->datasets) (1.3.1)\n",
            "Requirement already satisfied: filelock in /usr/local/lib/python3.10/dist-packages (from huggingface-hub<1.0.0,>=0.14.0->datasets) (3.12.2)\n",
            "Requirement already satisfied: typing-extensions>=3.7.4.3 in /usr/local/lib/python3.10/dist-packages (from huggingface-hub<1.0.0,>=0.14.0->datasets) (4.5.0)\n",
            "Requirement already satisfied: idna<4,>=2.5 in /usr/local/lib/python3.10/dist-packages (from requests>=2.19.0->datasets) (3.4)\n",
            "Requirement already satisfied: urllib3<3,>=1.21.1 in /usr/local/lib/python3.10/dist-packages (from requests>=2.19.0->datasets) (2.0.4)\n",
            "Requirement already satisfied: certifi>=2017.4.17 in /usr/local/lib/python3.10/dist-packages (from requests>=2.19.0->datasets) (2023.7.22)\n",
            "Requirement already satisfied: python-dateutil>=2.8.1 in /usr/local/lib/python3.10/dist-packages (from pandas->datasets) (2.8.2)\n",
            "Requirement already satisfied: pytz>=2020.1 in /usr/local/lib/python3.10/dist-packages (from pandas->datasets) (2023.3.post1)\n",
            "Requirement already satisfied: six>=1.5 in /usr/local/lib/python3.10/dist-packages (from python-dateutil>=2.8.1->pandas->datasets) (1.16.0)\n"
          ]
        }
      ],
      "source": [
        "!pip install datasets"
      ]
    },
    {
      "cell_type": "markdown",
      "source": [
        "Loading the CNN Dailymail dataset"
      ],
      "metadata": {
        "id": "fYqnd8E59tUp"
      }
    },
    {
      "cell_type": "code",
      "execution_count": 18,
      "metadata": {
        "colab": {
          "base_uri": "https://localhost:8080/"
        },
        "id": "JA8FO8dr-B9R",
        "outputId": "944452d6-931e-4dad-e47e-99f28cd972b8"
      },
      "outputs": [
        {
          "output_type": "stream",
          "name": "stdout",
          "text": [
            "Article: LONDON, England (Reuters) -- Harry Potter star Daniel Radcliffe gains access to a reported £20 million ($41.1 million) fortune as he turns 18 on Monday, but he insists the money won't cast a spell on him. Daniel Radcliffe as Harry Potter in \"Harry Potter and the Order of the Phoenix\" To the disappointment of gossip columnists around the world, the young actor says he has no plans to fritter his cash away on fast cars, drink and celebrity parties. \"I don't plan to be one of those people who, as soon as they turn 18, suddenly buy themselves a massive sports car collection or something similar,\" he told an Australian interviewer earlier this month. \"I don't think I'll be particularly extravagant. \"The things I like buying are things that cost about 10 pounds -- books and CDs and DVDs.\" At 18, Radcliffe will be able to gamble in a casino, buy a drink in a pub or see the horror film \"Hostel: Part II,\" currently six places below his number one movie on the UK box office chart. Details of how he'll mark his landmark birthday are under wraps. His agent and publicist had no comment on his plans. \"I'll definitely have some sort of party,\" he said in an interview. \"Hopefully none of you will be reading about it.\" Radcliffe's earnings from the first five Potter films have been held in a trust fund which he has not been able to touch. Despite his growing fame and riches, the actor says he is keeping his feet firmly on the ground. \"People are always looking to say 'kid star goes off the rails,'\" he told reporters last month. \"But I try very hard not to go that way because it would be too easy for them.\" His latest outing as the boy wizard in \"Harry Potter and the Order of the Phoenix\" is breaking records on both sides of the Atlantic and he will reprise the role in the last two films.  Watch I-Reporter give her review of Potter's latest » . There is life beyond Potter, however. The Londoner has filmed a TV movie called \"My Boy Jack,\" about author Rudyard Kipling and his son, due for release later this year. He will also appear in \"December Boys,\" an Australian film about four boys who escape an orphanage. Earlier this year, he made his stage debut playing a tortured teenager in Peter Shaffer's \"Equus.\" Meanwhile, he is braced for even closer media scrutiny now that he's legally an adult: \"I just think I'm going to be more sort of fair game,\" he told Reuters. E-mail to a friend . Copyright 2007 Reuters. All rights reserved.This material may not be published, broadcast, rewritten, or redistributed.\n",
            "Summary: Harry Potter star Daniel Radcliffe gets £20M fortune as he turns 18 Monday .\n",
            "Young actor says he has no plans to fritter his cash away .\n",
            "Radcliffe's earnings from first five Potter films have been held in trust fund .\n",
            "---\n",
            "Article: Editor's note: In our Behind the Scenes series, CNN correspondents share their experiences in covering news and analyze the stories behind the events. Here, Soledad O'Brien takes users inside a jail where many of the inmates are mentally ill. An inmate housed on the \"forgotten floor,\" where many mentally ill inmates are housed in Miami before trial. MIAMI, Florida (CNN) -- The ninth floor of the Miami-Dade pretrial detention facility is dubbed the \"forgotten floor.\" Here, inmates with the most severe mental illnesses are incarcerated until they're ready to appear in court. Most often, they face drug charges or charges of assaulting an officer --charges that Judge Steven Leifman says are usually \"avoidable felonies.\" He says the arrests often result from confrontations with police. Mentally ill people often won't do what they're told when police arrive on the scene -- confrontation seems to exacerbate their illness and they become more paranoid, delusional, and less likely to follow directions, according to Leifman. So, they end up on the ninth floor severely mentally disturbed, but not getting any real help because they're in jail. We toured the jail with Leifman. He is well known in Miami as an advocate for justice and the mentally ill. Even though we were not exactly welcomed with open arms by the guards, we were given permission to shoot videotape and tour the floor.  Go inside the 'forgotten floor' » . At first, it's hard to determine where the people are. The prisoners are wearing sleeveless robes. Imagine cutting holes for arms and feet in a heavy wool sleeping bag -- that's kind of what they look like. They're designed to keep the mentally ill patients from injuring themselves. That's also why they have no shoes, laces or mattresses. Leifman says about one-third of all people in Miami-Dade county jails are mentally ill. So, he says, the sheer volume is overwhelming the system, and the result is what we see on the ninth floor. Of course, it is a jail, so it's not supposed to be warm and comforting, but the lights glare, the cells are tiny and it's loud. We see two, sometimes three men -- sometimes in the robes, sometimes naked, lying or sitting in their cells. \"I am the son of the president. You need to get me out of here!\" one man shouts at me. He is absolutely serious, convinced that help is on the way -- if only he could reach the White House. Leifman tells me that these prisoner-patients will often circulate through the system, occasionally stabilizing in a mental hospital, only to return to jail to face their charges. It's brutally unjust, in his mind, and he has become a strong advocate for changing things in Miami. Over a meal later, we talk about how things got this way for mental patients. Leifman says 200 years ago people were considered \"lunatics\" and they were locked up in jails even if they had no charges against them. They were just considered unfit to be in society. Over the years, he says, there was some public outcry, and the mentally ill were moved out of jails and into hospitals. But Leifman says many of these mental hospitals were so horrible they were shut down. Where did the patients go? Nowhere. The streets. They became, in many cases, the homeless, he says. They never got treatment. Leifman says in 1955 there were more than half a million people in state mental hospitals, and today that number has been reduced 90 percent, and 40,000 to 50,000 people are in mental hospitals. The judge says he's working to change this. Starting in 2008, many inmates who would otherwise have been brought to the \"forgotten floor\"  will instead be sent to a new mental health facility -- the first step on a journey toward long-term treatment, not just punishment. Leifman says it's not the complete answer, but it's a start. Leifman says the best part is that it's a win-win solution. The patients win, the families are relieved, and the state saves money by simply not cycling these prisoners through again and again. And, for Leifman, justice is served. E-mail to a friend .\n",
            "Summary: Mentally ill inmates in Miami are housed on the \"forgotten floor\"\n",
            "Judge Steven Leifman says most are there as a result of \"avoidable felonies\"\n",
            "While CNN tours facility, patient shouts: \"I am the son of the president\"\n",
            "Leifman says the system is unjust and he's fighting for change .\n",
            "---\n",
            "Article: MINNEAPOLIS, Minnesota (CNN) -- Drivers who were on the Minneapolis bridge when it collapsed told harrowing tales of survival. \"The whole bridge from one side of the Mississippi to the other just completely gave way, fell all the way down,\" survivor Gary Babineau told CNN. \"I probably had a 30-, 35-foot free fall. And there's cars in the water, there's cars on fire. The whole bridge is down.\" He said his back was injured but he determined he could move around. \"I realized there was a school bus right next to me, and me and a couple of other guys went over and started lifting the kids off the bridge. They were yelling, screaming, bleeding. I think there were some broken bones.\"  Watch a driver describe his narrow escape » . At home when he heard about the disaster, Dr. John Hink, an emergency room physician, jumped into his car and rushed to the scene in 15 minutes. He arrived at the south side of the bridge, stood on the riverbank and saw dozens of people lying dazed on an expansive deck. They were in the middle of the Mississippi River, which was churning fast, and he had no way of getting to them. He went to the north side, where there was easier access to people. Ambulances were also having a hard time driving down to the river to get closer to the scene. Working feverishly, volunteers, EMTs and other officials managed to get 55 people into ambulances in less than two hours. Occasionally, a pickup truck with a medic inside would drive to get an injured person and bring him back up even ground, Hink told CNN. The rescue effort was controlled and organized, he said; the opposite of the lightning-quick collapse. \"I could see the whole bridge as it was going down, as it was falling,\" Babineau said. \"It just gave a rumble real quick, and it all just gave way, and it just fell completely, all the way to the ground. And there was dust everywhere and it was just like everyone has been saying: It was just like out of the movies.\" Babineau said the rear of his pickup truck was dangling over the edge of a broken-off section of the bridge. He said several vehicles slid past him into the water. \"I stayed in my car for one or two seconds. I saw a couple cars fall,\" he said. \"So I stayed in my car until the cars quit falling for a second, then I got out real quick, ran in front of my truck -- because behind my truck was just a hole -- and I helped a woman off of the bridge with me. \"I just wanted off the bridge, and then I ran over to the school bus. I started grabbing kids and handing them down. It was just complete chaos.\" He said most of the children were crying or screaming. He and other rescuers set them on the ground and told them to run to the river bank, but a few needed to be carried because of their injuries.  See rescuers clamber over rubble » . Babineau said he had no rescue training. \"I just knew what I had to do at the moment.\" Melissa Hughes, 32, of Minneapolis, told The Associated Press that she was driving home when the western edge of the bridge collapsed under her. \"You know that free-fall feeling? I felt that twice,\" Hughes said. A pickup landed on top of her car, but she was not hurt. \"I had no idea there was a vehicle on my car,\" she told AP. \"It's really very surreal.\" Babineau told the Minneapolis Star-Tribune: \"On the way down, I thought I was dead. I literally thought I was dead. \"My truck was completely face down, pointed toward the ground, and my truck got ripped in half. It was folded in half, and I can't believe I'm alive.\"  See and hear eyewitness accounts » . Bernie Toivonen told CNN's \"American Morning\" that his vehicle was on a part of the bridge that ended up tilted at a 45-degree angle. \"I knew the deck was going down, there was no question about it, and I thought I was going to die,\" he said. After the bridge settled and his car remained upright, \"I just put in park, turned the key off and said, 'Oh, I'm alive,' \" he said. E-mail to a friend .\n",
            "Summary: NEW: \"I thought I was going to die,\" driver says .\n",
            "Man says pickup truck was folded in half; he just has cut on face .\n",
            "Driver: \"I probably had a 30-, 35-foot free fall\"\n",
            "Minnesota bridge collapsed during rush hour Wednesday .\n",
            "---\n",
            "Article: WASHINGTON (CNN) -- Doctors removed five small polyps from President Bush's colon on Saturday, and \"none appeared worrisome,\" a White House spokesman said. The polyps were removed and sent to the National Naval Medical Center in Bethesda, Maryland, for routine microscopic examination, spokesman Scott Stanzel said. Results are expected in two to three days. All were small, less than a centimeter [half an inch] in diameter, he said. Bush is in good humor, Stanzel said, and will resume his activities at Camp David. During the procedure Vice President Dick Cheney assumed presidential power. Bush reclaimed presidential power at 9:21 a.m. after about two hours. Doctors used \"monitored anesthesia care,\" Stanzel said, so the president was asleep, but not as deeply unconscious as with a true general anesthetic. He spoke to first lady Laura Bush -- who is in Midland, Texas, celebrating her mother's birthday -- before and after the procedure, Stanzel said. Afterward, the president played with his Scottish terriers, Barney and Miss Beazley, Stanzel said. He planned to have lunch at Camp David and have briefings with National Security Adviser Stephen Hadley and White House Chief of Staff Josh Bolten, and planned to take a bicycle ride Saturday afternoon. Cheney, meanwhile, spent the morning at his home on Maryland's eastern shore, reading and playing with his dogs, Stanzel said. Nothing occurred that required him to take official action as president before Bush reclaimed presidential power. The procedure was supervised by Dr. Richard Tubb, Bush's physician, and conducted by a multidisciplinary team from the National Naval Medical Center in Bethesda, Maryland, the White House said. Bush's last colonoscopy was in June 2002, and no abnormalities were found, White House spokesman Tony Snow said. The president's doctor had recommended a repeat procedure in about five years. A colonoscopy is the most sensitive test for colon cancer, rectal cancer and polyps, small clumps of cells that can become cancerous, according to the Mayo Clinic. Small polyps may be removed during the procedure. Snow said on Friday that Bush had polyps removed during colonoscopies before becoming president. Snow himself is undergoing chemotherapy for cancer that began in his colon and spread to his liver.  Watch Snow talk about Bush's procedure and his own colon cancer » . \"The president wants to encourage everybody to use surveillance,\" Snow said. The American Cancer Society recommends that people without high risk factors or symptoms begin getting screened for signs of colorectal cancer at age 50. E-mail to a friend .\n",
            "Summary: Five small polyps found during procedure; \"none worrisome,\" spokesman says .\n",
            "President reclaims powers transferred to vice president .\n",
            "Bush undergoes routine colonoscopy at Camp David .\n",
            "---\n",
            "Article: (CNN)  -- The National Football League has indefinitely suspended Atlanta Falcons quarterback Michael Vick without pay, officials with the league said Friday. NFL star Michael Vick is set to appear in court Monday. A judge will have the final say on a plea deal. Earlier, Vick admitted to participating in a dogfighting ring as part of a plea agreement with federal prosecutors in Virginia. \"Your admitted conduct was not only illegal, but also cruel and reprehensible. Your team, the NFL, and NFL fans have all been hurt by your actions,\" NFL Commissioner Roger Goodell said in a letter to Vick. Goodell said he would review the status of the suspension after the legal proceedings are over. In papers filed Friday with a federal court in Virginia, Vick also admitted that he and two co-conspirators killed dogs that did not fight well. Falcons owner Arthur Blank said Vick's admissions describe actions that are \"incomprehensible and unacceptable.\" The suspension makes \"a strong statement that conduct which tarnishes the good reputation of the NFL will not be tolerated,\" he said in a statement.  Watch what led to Vick's suspension » . Goodell said the Falcons could \"assert any claims or remedies\" to recover $22 million of Vick's signing bonus from the 10-year, $130 million contract he signed in 2004, according to The Associated Press. Vick said he would plead guilty to one count of \"Conspiracy to Travel in Interstate Commerce in Aid of Unlawful Activities and to Sponsor a Dog in an Animal Fighting Venture\" in a plea agreement filed at U.S. District Court in Richmond, Virginia. The charge is punishable by up to five years in prison, a $250,000 fine, \"full restitution, a special assessment and 3 years of supervised release,\" the plea deal said. Federal prosecutors agreed to ask for the low end of the sentencing guidelines. \"The defendant will plead guilty because the defendant is in fact guilty of the charged offense,\" the plea agreement said. In an additional summary of facts, signed by Vick and filed with the agreement, Vick admitted buying pit bulls and the property used for training and fighting the dogs, but the statement said he did not bet on the fights or receive any of the money won. \"Most of the 'Bad Newz Kennels' operations and gambling monies were provided by Vick,\" the official summary of facts said. Gambling wins were generally split among co-conspirators Tony Taylor, Quanis Phillips and sometimes Purnell Peace, it continued. \"Vick did not gamble by placing side bets on any of the fights. Vick did not receive any of the proceeds from the purses that were won by 'Bad Newz Kennels.' \" Vick also agreed that \"collective efforts\" by him and two others caused the deaths of at least six dogs. Around April, Vick, Peace and Phillips tested some dogs in fighting sessions at Vick's property in Virginia, the statement said. \"Peace, Phillips and Vick agreed to the killing of approximately 6-8 dogs that did not perform well in 'testing' sessions at 1915 Moonlight Road and all of those dogs were killed by various methods, including hanging and drowning. \"Vick agrees and stipulates that these dogs all died as a result of the collective efforts of Peace, Phillips and Vick,\" the summary said. Peace, 35, of Virginia Beach, Virginia; Phillips, 28, of Atlanta, Georgia; and Taylor, 34, of Hampton, Virginia, already have accepted agreements to plead guilty in exchange for reduced sentences. Vick, 27, is scheduled to appear Monday in court, where he is expected to plead guilty before a judge.  See a timeline of the case against Vick » . The judge in the case will have the final say over the plea agreement. The federal case against Vick focused on the interstate conspiracy, but Vick's admission that he was involved in the killing of dogs could lead to local charges, according to CNN legal analyst Jeffrey Toobin. \"It sometimes happens -- not often -- that the state will follow a federal prosecution by charging its own crimes for exactly the same behavior,\" Toobin said Friday. \"The risk for Vick is, if he makes admissions in his federal guilty plea, the state of Virginia could say, 'Hey, look, you admitted violating Virginia state law as well. We're going to introduce that against you and charge you in our court.' \" In the plea deal, Vick agreed to cooperate with investigators and provide all information he may have on any criminal activity and to testify if necessary. Vick also agreed to turn over any documents he has and to submit to polygraph tests. Vick agreed to \"make restitution for the full amount of the costs associated\" with the dogs that are being held by the government. \"Such costs may include, but are not limited to, all costs associated with the care of the dogs involved in that case, including if necessary, the long-term care and/or the humane euthanasia of some or all of those animals.\" Prosecutors, with the support of animal rights activists, have asked for permission to euthanize the dogs. But the dogs could serve as important evidence in the cases against Vick and his admitted co-conspirators. Judge Henry E. Hudson issued an order Thursday telling the U.S. Marshals Service to \"arrest and seize the defendant property, and use discretion and whatever means appropriate to protect and maintain said defendant property.\" Both the judge's order and Vick's filing refer to \"approximately\" 53 pit bull dogs. After Vick's indictment last month, Goodell ordered the quarterback not to report to the Falcons training camp, and the league is reviewing the case. Blank told the NFL Network on Monday he could not speculate on Vick's future as a Falcon, at least not until he had seen \"a statement of facts\" in the case.  E-mail to a friend . CNN's Mike Phelan contributed to this report.\n",
            "Summary: NEW: NFL chief, Atlanta Falcons owner critical of Michael Vick's conduct .\n",
            "NFL suspends Falcons quarterback indefinitely without pay .\n",
            "Vick admits funding dogfighting operation but says he did not gamble .\n",
            "Vick due in federal court Monday; future in NFL remains uncertain .\n",
            "---\n"
          ]
        }
      ],
      "source": [
        "from datasets import load_dataset\n",
        "\n",
        "# Load the dataset\n",
        "dataset = load_dataset('cnn_dailymail', '3.0.0')\n",
        "train_data = dataset['train'] #'train_data' variable stores Training split\n",
        "\n",
        "for art,summ in zip(train_data['article'][:5], train_data['highlights'][:5]):\n",
        "  print(\"Article:\", art)\n",
        "  print(\"Summary:\",summ)\n",
        "  print(\"---\")"
      ]
    },
    {
      "cell_type": "code",
      "execution_count": 19,
      "metadata": {
        "colab": {
          "base_uri": "https://localhost:8080/"
        },
        "id": "DduTpVdE-J_5",
        "outputId": "101632e9-82ce-49b8-9822-50ab7d7a7095"
      },
      "outputs": [
        {
          "output_type": "stream",
          "name": "stdout",
          "text": [
            "Total No. of Articles: 287113\n"
          ]
        }
      ],
      "source": [
        "#prints the total number of articles in your training dataset.\n",
        "print(\"Total No. of Articles:\", len(train_data))"
      ]
    },
    {
      "cell_type": "code",
      "execution_count": 20,
      "metadata": {
        "id": "FDHZJQbj-NQI"
      },
      "outputs": [],
      "source": [
        "#iterates each article in the training dataset and splits it into words using .split()\n",
        "#calculates the length (word count) of each article\n",
        "#'article_lengths' contains the word counts for all the articles in the dataset\n",
        "#'summary_lengths' contains the word counts for all the articles in the dataset\n",
        "\n",
        "article_lengths = [len(article.split()) for article in train_data['article']]\n",
        "summary_lengths = [len(summ.split()) for summ in train_data['highlights']]"
      ]
    },
    {
      "cell_type": "code",
      "execution_count": 21,
      "metadata": {
        "colab": {
          "base_uri": "https://localhost:8080/"
        },
        "id": "-h9NOWKB_lTg",
        "outputId": "d07c9501-506c-4a07-a28d-66b6d35723f2"
      },
      "outputs": [
        {
          "output_type": "stream",
          "name": "stdout",
          "text": [
            "Article Word count Statistics:\n",
            "8\n",
            "2347\n",
            "[455, 698, 743, 414, 973]\n"
          ]
        }
      ],
      "source": [
        "print(\"Article Word count Statistics:\")\n",
        "print(min(article_lengths))\n",
        "print(max(article_lengths))\n",
        "print(article_lengths[:5])"
      ]
    },
    {
      "cell_type": "code",
      "source": [
        "print(\"Summary Word count Statistics:\")\n",
        "print(min(summary_lengths))\n",
        "print(max(summary_lengths))\n",
        "print(summary_lengths[:5])"
      ],
      "metadata": {
        "colab": {
          "base_uri": "https://localhost:8080/"
        },
        "id": "8IaBK2GAEMWX",
        "outputId": "86658024-df16-4a3f-e902-6fd048b6cbc4"
      },
      "execution_count": 33,
      "outputs": [
        {
          "output_type": "stream",
          "name": "stdout",
          "text": [
            "Summary Word count Statistics:\n",
            "4\n",
            "1296\n",
            "[41, 49, 43, 27, 44]\n"
          ]
        }
      ]
    },
    {
      "cell_type": "markdown",
      "source": [
        "Data Visualization"
      ],
      "metadata": {
        "id": "_Ob8VG7b_Y21"
      }
    },
    {
      "cell_type": "code",
      "source": [
        "import pandas as pd\n",
        "import matplotlib.pyplot as plt"
      ],
      "metadata": {
        "id": "i1lrSd3w_VYy"
      },
      "execution_count": null,
      "outputs": []
    },
    {
      "cell_type": "code",
      "execution_count": 22,
      "metadata": {
        "colab": {
          "base_uri": "https://localhost:8080/",
          "height": 452
        },
        "id": "ZWgWnmOY-Uvb",
        "outputId": "7626b4f2-c07e-4e29-f75e-7b6b23460c9e"
      },
      "outputs": [
        {
          "output_type": "display_data",
          "data": {
            "text/plain": [
              "<Figure size 640x480 with 1 Axes>"
            ],
            "image/png": "[encoded data removed]"
          },
          "metadata": {}
        }
      ],
      "source": [
        "#uses the pandas library and matplotlib to create a histogram to visualize the distribution of article lengths.\n",
        "#this dataframe contains a column called text\n",
        "length_df = pd.DataFrame({'Text':article_lengths})\n",
        "length_df.hist(bins = 25)\n",
        "plt.show()"
      ]
    },
    {
      "cell_type": "code",
      "execution_count": 25,
      "metadata": {
        "colab": {
          "base_uri": "https://localhost:8080/",
          "height": 452
        },
        "id": "B7ttLLjA-r9u",
        "outputId": "f1db7235-1322-49c3-88a0-0f26a21191db"
      },
      "outputs": [
        {
          "output_type": "display_data",
          "data": {
            "text/plain": [
              "<Figure size 640x480 with 1 Axes>"
            ],
            "image/png": "[encoded data removed]"
          },
          "metadata": {}
        }
      ],
      "source": [
        "#uses the pandas library and matplotlib to create a histogram to visualize the distribution of summary lengths.\n",
        "#this dataframe contains a column called summary which stores summary lengths\n",
        "\n",
        "length_df = pd.DataFrame({ \"Summary\":summary_lengths})\n",
        "length_df.hist(bins = 25)\n",
        "plt.show()"
      ]
    },
    {
      "cell_type": "markdown",
      "source": [
        "NLTK"
      ],
      "metadata": {
        "id": "PdZmre7QElCb"
      }
    },
    {
      "cell_type": "code",
      "execution_count": 26,
      "metadata": {
        "colab": {
          "base_uri": "https://localhost:8080/"
        },
        "id": "diHfun1n__en",
        "outputId": "084cd132-38f0-4865-f18d-f90088d50ac3"
      },
      "outputs": [
        {
          "output_type": "stream",
          "name": "stderr",
          "text": [
            "[nltk_data] Downloading package punkt to /root/nltk_data...\n",
            "[nltk_data]   Package punkt is already up-to-date!\n",
            "[nltk_data] Downloading package stopwords to /root/nltk_data...\n",
            "[nltk_data]   Package stopwords is already up-to-date!\n",
            "[nltk_data] Downloading package wordnet to /root/nltk_data...\n",
            "[nltk_data]   Package wordnet is already up-to-date!\n"
          ]
        },
        {
          "output_type": "execute_result",
          "data": {
            "text/plain": [
              "True"
            ]
          },
          "metadata": {},
          "execution_count": 26
        }
      ],
      "source": [
        "import nltk\n",
        "from nltk.corpus import stopwords\n",
        "from nltk.tokenize import word_tokenize\n",
        "from nltk.stem import WordNetLemmatizer\n",
        "import re\n",
        "\n",
        "#NLTK resources\n",
        "nltk.download('punkt')\n",
        "nltk.download('stopwords')\n",
        "nltk.download('wordnet')"
      ]
    },
    {
      "cell_type": "code",
      "execution_count": 27,
      "metadata": {
        "id": "Hd7nYWc9ACWA"
      },
      "outputs": [],
      "source": [
        "contraction_mapping = {\"ain't\": \"is not\", \"aren't\": \"are not\",\"can't\": \"cannot\", \"'cause\": \"because\", \"could've\": \"could have\", \"couldn't\": \"could not\",\"didn't\": \"did not\", \"doesn't\": \"does not\", \"don't\": \"do not\",\"hadn't\": \"had not\", \"hasn't\": \"has not\", \"haven't\": \"have not\",\"he'd\": \"he would\",\"he'll\": \"he will\", \"he's\": \"he is\",\"how'd\": \"how did\", \"how'd'y\": \"how do you\", \"how'll\": \"how will\", \"how's\": \"how is\",\"I'd\": \"I would\", \"I'd've\": \"I would have\", \"I'll\": \"I will\",\"I'll've\": \"I will have\",\"I'm\": \"I am\", \"I've\": \"I have\", \"i'd\": \"i would\",\"i'd've\": \"i would have\", \"i'll\": \"i will\",  \"i'll've\": \"i will have\",\"i'm\": \"i am\", \"i've\": \"i have\", \"isn't\": \"is not\", \"it'd\": \"it would\",\"it'd've\": \"it would have\", \"it'll\": \"it will\", \"it'll've\": \"it will have\",\"it's\": \"it is\", \"let's\": \"let us\", \"ma'am\": \"madam\",\"mayn't\": \"may not\", \"might've\": \"might have\",\"mightn't\": \"might not\",\"mightn't've\": \"might not have\", \"must've\": \"must have\",\"mustn't\": \"must not\", \"mustn't've\": \"must not have\", \"needn't\": \"need not\",\"needn't've\": \"need not have\",\"o'clock\": \"of the clock\",\"oughtn't\": \"ought not\", \"oughtn't've\": \"ought not have\", \"shan't\": \"shall not\",\"sha'n't\": \"shall not\", \"shan't've\": \"shall not have\",\"she'd\": \"she would\", \"she'd've\": \"she would have\",\"she'll\": \"she will\", \"she'll've\": \"she will have\", \"she's\": \"she is\",\"should've\": \"should have\", \"shouldn't\": \"should not\",\"shouldn't've\": \"should not have\", \"so've\": \"so have\",\"so's\": \"so as\",\"this's\": \"this is\",\"that'd\": \"that would\", \"that'd've\": \"that would have\",\"that's\": \"that is\", \"there'd\": \"there would\",\"there'd've\": \"there would have\", \"there's\": \"there is\",\"here's\": \"here is\",\"they'd\": \"they would\", \"they'd've\": \"they would have\",\"they'll\": \"they will\", \"they'll've\": \"they will have\",\"they're\": \"they are\", \"they've\": \"they have\", \"to've\": \"to have\",\"wasn't\": \"was not\", \"we'd\": \"we would\", \"we'd've\": \"we would have\",\"we'll\": \"we will\", \"we'll've\": \"we will have\", \"we're\": \"we are\",\"we've\": \"we have\", \"weren't\": \"were not\", \"what'll\": \"what will\",\"what'll've\": \"what will have\", \"what're\": \"what are\",\"what's\": \"what is\", \"what've\": \"what have\", \"when's\": \"when is\",\"when've\": \"when have\", \"where'd\": \"where did\", \"where's\": \"where is\",\"where've\": \"where have\", \"who'll\": \"who will\", \"who'll've\": \"who will have\",\"who's\": \"who is\", \"who've\": \"who have\", \"why's\": \"why is\", \"why've\": \"why have\",\"will've\": \"will have\", \"won't\": \"will not\", \"won't've\": \"will not have\",\"would've\": \"would have\", \"wouldn't\": \"would not\", \"wouldn't've\": \"would not have\",\"y'all\": \"you all\", \"y'all'd\": \"you all would\",\"y'all'd've\": \"you all would have\",\"y'all're\": \"you all are\",\"y'all've\": \"you all have\", \"you'd\": \"you would\",\"you'd've\": \"you would have\", \"you'll\": \"you will\", \"you'll've\": \"you will have\",\"you're\": \"you are\", \"you've\": \"you have\"}"
      ]
    },
    {
      "cell_type": "code",
      "execution_count": 28,
      "metadata": {
        "id": "e8WWbFs-B2VB"
      },
      "outputs": [],
      "source": [
        "import multiprocessing\n",
        "from tqdm import tqdm"
      ]
    },
    {
      "cell_type": "code",
      "execution_count": 29,
      "metadata": {
        "id": "Nwd15HZ9B23C"
      },
      "outputs": [],
      "source": [
        "#This function takes a single text input, performs several preprocessing steps, and returns the cleaned text\n",
        "\n",
        "def preprocess_and_clean(text):\n",
        "    #Remove non-alphanumeric characters\n",
        "    text = re.sub(r'[^A-Za-z0-9]', ' ', text)\n",
        "    #Convert to lowercase\n",
        "    text = text.lower()\n",
        "    #Perform Contraction mapping\n",
        "    text = ' '.join([contraction_mapping[t] if t in contraction_mapping else t for t in text.split(\" \")])\n",
        "    #Tokenize the text\n",
        "    tokens = word_tokenize(text)\n",
        "    #Remove stopwords and perform lemmatization\n",
        "    stop_words = set(stopwords.words('english'))\n",
        "    lemmatizer = WordNetLemmatizer()\n",
        "    tokens = [lemmatizer.lemmatize(token) for token in tokens if token not in stop_words]\n",
        "    # Join the tokens back into a single string\n",
        "    cleaned_text = ' '.join(tokens)\n",
        "    return cleaned_text"
      ]
    },
    {
      "cell_type": "code",
      "execution_count": 30,
      "metadata": {
        "id": "_iptV7RBCp9r"
      },
      "outputs": [],
      "source": [
        "#This function is useful for efficiently preprocessing a large dataset of text samples in parallel\n",
        "#uses multiple CPU cores to speed up the process\n",
        "\n",
        "def preprocess_dataset(dataset):\n",
        "    num_cpus = multiprocessing.cpu_count()\n",
        "    pool = multiprocessing.Pool(processes=num_cpus)\n",
        "    processed_texts = []\n",
        "    with tqdm(total=len(dataset), desc=\"Preprocessing\") as pbar:\n",
        "        for cleaned_text in pool.imap_unordered(preprocess_and_clean, dataset):\n",
        "            processed_texts.append(cleaned_text)\n",
        "            pbar.update()\n",
        "    pool.close()\n",
        "    pool.join()\n",
        "    return processed_texts"
      ]
    },
    {
      "cell_type": "code",
      "execution_count": 31,
      "metadata": {
        "colab": {
          "base_uri": "https://localhost:8080/"
        },
        "id": "UFHAn-t5Csr2",
        "outputId": "70f10f5b-8d5d-45c0-bdec-b9b238decf4c"
      },
      "outputs": [
        {
          "output_type": "stream",
          "name": "stderr",
          "text": [
            "Preprocessing: 100%|██████████| 20000/20000 [01:56<00:00, 171.00it/s]\n",
            "Preprocessing: 100%|██████████| 20000/20000 [00:20<00:00, 970.83it/s] \n"
          ]
        }
      ],
      "source": [
        "articles = train_data['article'][0:20000]\n",
        "highlights = train_data['highlights'][0:20000]\n",
        "\n",
        "#Preprocess and clean the dataset\n",
        "cleaned_articles = preprocess_dataset(articles)\n",
        "cleaned_highlights = preprocess_dataset(highlights)"
      ]
    },
    {
      "cell_type": "code",
      "execution_count": 32,
      "metadata": {
        "colab": {
          "base_uri": "https://localhost:8080/"
        },
        "id": "xZYWN7t8C2-r",
        "outputId": "1a9276de-9781-4147-a149-3720da7d18ca"
      },
      "outputs": [
        {
          "output_type": "stream",
          "name": "stdout",
          "text": [
            "Article: london england reuters harry potter star daniel radcliffe gain access reported 20 million 41 1 million fortune turn 18 monday insists money cast spell daniel radcliffe harry potter harry potter order phoenix disappointment gossip columnist around world young actor say plan fritter cash away fast car drink celebrity party plan one people soon turn 18 suddenly buy massive sport car collection something similar told australian interviewer earlier month think particularly extravagant thing like buying thing cost 10 pound book cd dvd 18 radcliffe able gamble casino buy drink pub see horror film hostel part ii currently six place number one movie uk box office chart detail mark landmark birthday wrap agent publicist comment plan definitely sort party said interview hopefully none reading radcliffe earnings first five potter film held trust fund able touch despite growing fame rich actor say keeping foot firmly ground people always looking say kid star go rail told reporter last month try hard go way would easy latest outing boy wizard harry potter order phoenix breaking record side atlantic reprise role last two film watch reporter give review potter latest life beyond potter however londoner filmed tv movie called boy jack author rudyard kipling son due release later year also appear december boy australian film four boy escape orphanage earlier year made stage debut playing tortured teenager peter shaffer equus meanwhile braced even closer medium scrutiny legally adult think going sort fair game told reuters e mail friend copyright 2007 reuters right reserved material may published broadcast rewritten redistributed\n",
            "Highlights: mentally ill inmate miami housed forgotten floor judge steven leifman say result avoidable felony cnn tour facility patient shout son president leifman say system unjust fighting change\n",
            "---\n",
            "Article: minneapolis minnesota cnn driver minneapolis bridge collapsed told harrowing tale survival whole bridge one side mississippi completely gave way fell way survivor gary babineau told cnn probably 30 35 foot free fall car water car fire whole bridge said back injured determined could move around realized school bus right next couple guy went started lifting kid bridge yelling screaming bleeding think broken bone watch driver describe narrow escape home heard disaster dr john hink emergency room physician jumped car rushed scene 15 minute arrived south side bridge stood riverbank saw dozen people lying dazed expansive deck middle mississippi river churning fast way getting went north side easier access people ambulance also hard time driving river get closer scene working feverishly volunteer emts official managed get 55 people ambulance le two hour occasionally pickup truck medic inside would drive get injured person bring back even ground hink told cnn rescue effort controlled organized said opposite lightning quick collapse could see whole bridge going falling babineau said gave rumble real quick gave way fell completely way ground dust everywhere like everyone saying like movie babineau said rear pickup truck dangling edge broken section bridge said several vehicle slid past water stayed car one two second saw couple car fall said stayed car car quit falling second got real quick ran front truck behind truck hole helped woman bridge wanted bridge ran school bus started grabbing kid handing complete chaos said child cry screaming rescuer set ground told run river bank needed carried injury see rescuer clamber rubble babineau said rescue training knew moment melissa hughes 32 minneapolis told associated press driving home western edge bridge collapsed know free fall feeling felt twice hughes said pickup landed top car hurt idea vehicle car told ap really surreal babineau told minneapolis star tribune way thought dead literally thought dead truck completely face pointed toward ground truck got ripped half folded half believe alive see hear eyewitness account bernie toivonen told cnn american morning vehicle part bridge ended tilted 45 degree angle knew deck going question thought going die said bridge settled car remained upright put park turned key said oh alive said e mail friend\n",
            "Highlights: new thought going die driver say man say pickup truck folded half cut face driver probably 30 35 foot free fall minnesota bridge collapsed rush hour wednesday\n",
            "---\n",
            "Article: washington cnn doctor removed five small polyp president bush colon saturday none appeared worrisome white house spokesman said polyp removed sent national naval medical center bethesda maryland routine microscopic examination spokesman scott stanzel said result expected two three day small le centimeter half inch diameter said bush good humor stanzel said resume activity camp david procedure vice president dick cheney assumed presidential power bush reclaimed presidential power 9 21 two hour doctor used monitored anesthesia care stanzel said president asleep deeply unconscious true general anesthetic spoke first lady laura bush midland texas celebrating mother birthday procedure stanzel said afterward president played scottish terrier barney miss beazley stanzel said planned lunch camp david briefing national security adviser stephen hadley white house chief staff josh bolten planned take bicycle ride saturday afternoon cheney meanwhile spent morning home maryland eastern shore reading playing dog stanzel said nothing occurred required take official action president bush reclaimed presidential power procedure supervised dr richard tubb bush physician conducted multidisciplinary team national naval medical center bethesda maryland white house said bush last colonoscopy june 2002 abnormality found white house spokesman tony snow said president doctor recommended repeat procedure five year colonoscopy sensitive test colon cancer rectal cancer polyp small clump cell become cancerous according mayo clinic small polyp may removed procedure snow said friday bush polyp removed colonoscopy becoming president snow undergoing chemotherapy cancer began colon spread liver watch snow talk bush procedure colon cancer president want encourage everybody use surveillance snow said american cancer society recommends people without high risk factor symptom begin getting screened sign colorectal cancer age 50 e mail friend\n",
            "Highlights: five small polyp found procedure none worrisome spokesman say president reclaims power transferred vice president bush undergoes routine colonoscopy camp david\n",
            "---\n",
            "Article: cnn national football league indefinitely suspended atlanta falcon quarterback michael vick without pay official league said friday nfl star michael vick set appear court monday judge final say plea deal earlier vick admitted participating dogfighting ring part plea agreement federal prosecutor virginia admitted conduct illegal also cruel reprehensible team nfl nfl fan hurt action nfl commissioner roger goodell said letter vick goodell said would review status suspension legal proceeding paper filed friday federal court virginia vick also admitted two co conspirator killed dog fight well falcon owner arthur blank said vick admission describe action incomprehensible unacceptable suspension make strong statement conduct tarnish good reputation nfl tolerated said statement watch led vick suspension goodell said falcon could assert claim remedy recover 22 million vick signing bonus 10 year 130 million contract signed 2004 according associated press vick said would plead guilty one count conspiracy travel interstate commerce aid unlawful activity sponsor dog animal fighting venture plea agreement filed u district court richmond virginia charge punishable five year prison 250 000 fine full restitution special assessment 3 year supervised release plea deal said federal prosecutor agreed ask low end sentencing guideline defendant plead guilty defendant fact guilty charged offense plea agreement said additional summary fact signed vick filed agreement vick admitted buying pit bull property used training fighting dog statement said bet fight receive money bad newz kennel operation gambling monies provided vick official summary fact said gambling win generally split among co conspirator tony taylor quanis phillips sometimes purnell peace continued vick gamble placing side bet fight vick receive proceeds purse bad newz kennel vick also agreed collective effort two others caused death least six dog around april vick peace phillips tested dog fighting session vick property virginia statement said peace phillips vick agreed killing approximately 6 8 dog perform well testing session 1915 moonlight road dog killed various method including hanging drowning vick agrees stipulates dog died result collective effort peace phillips vick summary said peace 35 virginia beach virginia phillips 28 atlanta georgia taylor 34 hampton virginia already accepted agreement plead guilty exchange reduced sentence vick 27 scheduled appear monday court expected plead guilty judge see timeline case vick judge case final say plea agreement federal case vick focused interstate conspiracy vick admission involved killing dog could lead local charge according cnn legal analyst jeffrey toobin sometimes happens often state follow federal prosecution charging crime exactly behavior toobin said friday risk vick make admission federal guilty plea state virginia could say hey look admitted violating virginia state law well going introduce charge court plea deal vick agreed cooperate investigator provide information may criminal activity testify necessary vick also agreed turn document submit polygraph test vick agreed make restitution full amount cost associated dog held government cost may include limited cost associated care dog involved case including necessary long term care humane euthanasia animal prosecutor support animal right activist asked permission euthanize dog dog could serve important evidence case vick admitted co conspirator judge henry e hudson issued order thursday telling u marshal service arrest seize defendant property use discretion whatever mean appropriate protect maintain said defendant property judge order vick filing refer approximately 53 pit bull dog vick indictment last month goodell ordered quarterback report falcon training camp league reviewing case blank told nfl network monday could speculate vick future falcon least seen statement fact case e mail friend cnn mike phelan contributed report\n",
            "Highlights: new nfl chief atlanta falcon owner critical michael vick conduct nfl suspends falcon quarterback indefinitely without pay vick admits funding dogfighting operation say gamble vick due federal court monday future nfl remains uncertain\n",
            "---\n",
            "Article: baghdad iraq cnn dressed superman shirt 5 year old youssif held sister hand friday seemingly unaware million people across world touched story nearby parent talked new future hope boy potential recovery severe burn youssif hold sister hand friday wearing facial mask often used help burn victim best birthday present iraqi family could ever imagined boy youssif turn 6 next friday happy know mother zainab told cnn broad smile across face think reaction would big father said roof house cnn called news outpouring support son want thank everyone come forward said knew kindness like wife stop smiling talked tried vain get help son baghdad leaving stone unturned mission help boy many trip ministry health say even put request iraq parliament help family eventually told cnn story youssif grabbed masked men outside home january 15 doused gasoline set fire simply coming forward parent put incredible danger one arrested held accountable youssif case watch cnn arwa damon describe truly phenomenal outpouring shortly youssif story aired wednesday child burn foundation nonprofit organization based sherman oak california provides support burn victim locally nationally internationally agreed pay transportation youssif family come united state set fund donation make donation foundation site clicking drop menu general donation area marked youssif fund foundation say cover medical cost surgery youssif housing cost social rehabilitation might needed surgery performed dr peter grossman plastic surgeon affiliated grossman burn center donating service youssif cause official still trying get appropriate visa family travel prepared come set housing situation provide support begin treatment said barbara friedman executive director child burn foundation expect treatment six month year many surgery added getting absolute best care available youssif parent said know going lengthy difficult process adjusting stay america may easy none matter getting help boy first foremost anything youssif father said pulling son closer child everything mother tried coax youssif talk u day want mother say shy outside home biggest obstacle getting visa leave serious security risk face every day hour remain iraq family saw worst humanity january day new hope world partly due ten thousand cnn com user moved story wanted act cnn iraqi staff central bringing story together also overwhelmed generosity coming people outside border nation largely feel abandoned rest world refreshing realization e mail friend cnn com senior producer wayne drash contributed report atlanta\n",
            "Highlights: parent beam pride stop smiling outpouring support mom happy know burn center u offered provide treatment reconstructive surgery dad say anything youssif\n",
            "---\n"
          ]
        }
      ],
      "source": [
        "#Print the cleaned dataset\n",
        "for art,summ in zip(cleaned_articles[0:5],cleaned_highlights[0:5]):\n",
        "    print('Article:', art)\n",
        "    print('Highlights:', summ)\n",
        "    print('---')"
      ]
    },
    {
      "cell_type": "markdown",
      "source": [
        "BART implementation"
      ],
      "metadata": {
        "id": "ELnsfSoXHAYt"
      }
    },
    {
      "cell_type": "code",
      "source": [
        "!pip install transformers"
      ],
      "metadata": {
        "colab": {
          "base_uri": "https://localhost:8080/"
        },
        "id": "F09FWsEpHE7U",
        "outputId": "7894cd66-023d-4ebe-afdc-0a0425713610"
      },
      "execution_count": 34,
      "outputs": [
        {
          "output_type": "stream",
          "name": "stdout",
          "text": [
            "Collecting transformers\n",
            "  Downloading transformers-4.33.2-py3-none-any.whl (7.6 MB)\n",
            "\u001b[2K     \u001b[90m━━━━━━━━━━━━━━━━━━━━━━━━━━━━━━━━━━━━━━━━\u001b[0m \u001b[32m7.6/7.6 MB\u001b[0m \u001b[31m20.8 MB/s\u001b[0m eta \u001b[36m0:00:00\u001b[0m\n",
            "\u001b[?25hRequirement already satisfied: filelock in /usr/local/lib/python3.10/dist-packages (from transformers) (3.12.2)\n",
            "Requirement already satisfied: huggingface-hub<1.0,>=0.15.1 in /usr/local/lib/python3.10/dist-packages (from transformers) (0.17.2)\n",
            "Requirement already satisfied: numpy>=1.17 in /usr/local/lib/python3.10/dist-packages (from transformers) (1.23.5)\n",
            "Requirement already satisfied: packaging>=20.0 in /usr/local/lib/python3.10/dist-packages (from transformers) (23.1)\n",
            "Requirement already satisfied: pyyaml>=5.1 in /usr/local/lib/python3.10/dist-packages (from transformers) (6.0.1)\n",
            "Requirement already satisfied: regex!=2019.12.17 in /usr/local/lib/python3.10/dist-packages (from transformers) (2023.6.3)\n",
            "Requirement already satisfied: requests in /usr/local/lib/python3.10/dist-packages (from transformers) (2.31.0)\n",
            "Collecting tokenizers!=0.11.3,<0.14,>=0.11.1 (from transformers)\n",
            "  Downloading tokenizers-0.13.3-cp310-cp310-manylinux_2_17_x86_64.manylinux2014_x86_64.whl (7.8 MB)\n",
            "\u001b[2K     \u001b[90m━━━━━━━━━━━━━━━━━━━━━━━━━━━━━━━━━━━━━━━━\u001b[0m \u001b[32m7.8/7.8 MB\u001b[0m \u001b[31m51.7 MB/s\u001b[0m eta \u001b[36m0:00:00\u001b[0m\n",
            "\u001b[?25hCollecting safetensors>=0.3.1 (from transformers)\n",
            "  Downloading safetensors-0.3.3-cp310-cp310-manylinux_2_17_x86_64.manylinux2014_x86_64.whl (1.3 MB)\n",
            "\u001b[2K     \u001b[90m━━━━━━━━━━━━━━━━━━━━━━━━━━━━━━━━━━━━━━━━\u001b[0m \u001b[32m1.3/1.3 MB\u001b[0m \u001b[31m51.8 MB/s\u001b[0m eta \u001b[36m0:00:00\u001b[0m\n",
            "\u001b[?25hRequirement already satisfied: tqdm>=4.27 in /usr/local/lib/python3.10/dist-packages (from transformers) (4.66.1)\n",
            "Requirement already satisfied: fsspec in /usr/local/lib/python3.10/dist-packages (from huggingface-hub<1.0,>=0.15.1->transformers) (2023.6.0)\n",
            "Requirement already satisfied: typing-extensions>=3.7.4.3 in /usr/local/lib/python3.10/dist-packages (from huggingface-hub<1.0,>=0.15.1->transformers) (4.5.0)\n",
            "Requirement already satisfied: charset-normalizer<4,>=2 in /usr/local/lib/python3.10/dist-packages (from requests->transformers) (3.2.0)\n",
            "Requirement already satisfied: idna<4,>=2.5 in /usr/local/lib/python3.10/dist-packages (from requests->transformers) (3.4)\n",
            "Requirement already satisfied: urllib3<3,>=1.21.1 in /usr/local/lib/python3.10/dist-packages (from requests->transformers) (2.0.4)\n",
            "Requirement already satisfied: certifi>=2017.4.17 in /usr/local/lib/python3.10/dist-packages (from requests->transformers) (2023.7.22)\n",
            "Installing collected packages: tokenizers, safetensors, transformers\n",
            "Successfully installed safetensors-0.3.3 tokenizers-0.13.3 transformers-4.33.2\n"
          ]
        }
      ]
    },
    {
      "cell_type": "code",
      "source": [
        "from transformers import BartTokenizer, BartForConditionalGeneration, BartConfig"
      ],
      "metadata": {
        "id": "akS7-V0HHFpm"
      },
      "execution_count": 35,
      "outputs": []
    },
    {
      "cell_type": "code",
      "source": [
        "#useing the pre-trained BART-Large-CNN model\n",
        "bart_PATH = 'facebook/bart-large-cnn'\n",
        "\n",
        "#retrieve the past states when generating text\n",
        "bart_model = BartForConditionalGeneration.from_pretrained(bart_PATH, output_past=True)\n",
        "bart_tokenizer = BartTokenizer.from_pretrained(bart_PATH)\n",
        "\n",
        "#variable x contains the tokenized representation of cleaned articles\n",
        "x = bart_tokenizer(cleaned_articles, truncation=True, max_length=500)"
      ],
      "metadata": {
        "colab": {
          "base_uri": "https://localhost:8080/",
          "height": 177,
          "referenced_widgets": [
            "42353c5b57c942df81af8c52cc16145b",
            "8ef2d726c0824bdd8e4856dfe698cd7d",
            "dec21dc24dbb4579b9cfbed8443a0468",
            "0d91453b13f7431c9699cb17c4240dc3",
            "2770946773b1479995806193d3e13784",
            "1478162120cc4db1b98203950c1e4b1b",
            "cfcbcb28bafd4c5ca0ee4a9f9a7d53d0",
            "bf094118a718456c87121ac9e2971107",
            "7de17a4d8b6f48eba5343adf721d2f49",
            "7ea5bf633ef546f7bd83ea2980ba94c7",
            "83ed196eef5b497e81d9c354f58b8c4a",
            "f666a1e1c1da4a7a94e239fee37e0be1",
            "c35aa71324d542f595dbf53b13a26531",
            "a7240044efe94c2398de87c2083abadd",
            "3e613762299d4479829f27ba385e8f61",
            "c2d9c67facaa4a82b695c96ee141215e",
            "c3095f4806b747d99254c1711dc3076f",
            "cb3edcd3ab4f472784b69bb946013f4b",
            "efba0c574b6a4044bb8da76a86931ef5",
            "03a3c4441e96441e89db4f473c2b78ec",
            "f0d1b67d47794f2bad9665f45dee44c4",
            "27a8af624d5f4762811b5d01ec73a174",
            "66c2ef0e6b214227becd11572dcb56ee",
            "7b6dd12ab9154b47bc8ec6af456e3d0b",
            "26d79becd7a2493b96a333e2c5afa3be",
            "950dd267bda347469141aef75661a8ab",
            "65677dd5a46744b19b66a203303ea6ab",
            "f3c41c074d1b4e3da42cbc89c8c0c37b",
            "dac9d229593e42c5aaac58b4573d7d2f",
            "7d54e68d6fa24104a8aaa3979a247acf",
            "3d97123bb0a745728867fbea4dff467e",
            "72b161ce774d4726b1c730119b0b3550",
            "2f75dad5f11d42feb709291b29451720",
            "6f5fc22d777047329fc1368baf6bb28a",
            "8c11738cedd54b49947ba42458810f40",
            "050ce540e4804771a3f53c17f7674f2f",
            "080bff6084b64d529f7615af5cd748a2",
            "437786466e0b4781a9588f7420b8cccc",
            "42ec13c3a4844bf09fda55c0a71a973d",
            "f8d7dbcd70ea45a2ab3816cefa20cb86",
            "7d6482f9ac284d1c86523edab1704a42",
            "b81a8e9a0ccf46cc9e3e851a32ab9273",
            "5e1843f9e30c442681b611a5485a81c2",
            "3c31fe42804d4c20a9cd687a087d9c56",
            "82fd7ee1b7234924a7c6f37d4429cf44",
            "47491cad317f415aaf37fc025db9b139",
            "24eddf50b5784dd9b9be9527e6c0835f",
            "65c96d5804214027b021eb7b11c1593a",
            "b94e2bf46fec4337b572e1702e1d03f7",
            "4741b4ab09b84d6399306bd589403c06",
            "7314c2ab1853409bbb532878bc48d0d7",
            "7970bfe84da64d6e866a3a813bb2a143",
            "b06f012dcec24dc4a46be4a8dceb6463",
            "947eb014aed249338076552b00128343",
            "d2702c7e9c8b4d2e99a6dbcdaaa9a731"
          ]
        },
        "id": "I-0ewGmKHM-W",
        "outputId": "b3a7f124-01fe-47e5-891e-12468e423d7b"
      },
      "execution_count": 36,
      "outputs": [
        {
          "output_type": "display_data",
          "data": {
            "text/plain": [
              "Downloading (…)lve/main/config.json:   0%|          | 0.00/1.58k [00:00<?, ?B/s]"
            ],
            "application/vnd.jupyter.widget-view+json": {
              "version_major": 2,
              "version_minor": 0,
              "model_id": "42353c5b57c942df81af8c52cc16145b"
            }
          },
          "metadata": {}
        },
        {
          "output_type": "display_data",
          "data": {
            "text/plain": [
              "Downloading pytorch_model.bin:   0%|          | 0.00/1.63G [00:00<?, ?B/s]"
            ],
            "application/vnd.jupyter.widget-view+json": {
              "version_major": 2,
              "version_minor": 0,
              "model_id": "f666a1e1c1da4a7a94e239fee37e0be1"
            }
          },
          "metadata": {}
        },
        {
          "output_type": "display_data",
          "data": {
            "text/plain": [
              "Downloading (…)neration_config.json:   0%|          | 0.00/363 [00:00<?, ?B/s]"
            ],
            "application/vnd.jupyter.widget-view+json": {
              "version_major": 2,
              "version_minor": 0,
              "model_id": "66c2ef0e6b214227becd11572dcb56ee"
            }
          },
          "metadata": {}
        },
        {
          "output_type": "display_data",
          "data": {
            "text/plain": [
              "Downloading (…)olve/main/vocab.json:   0%|          | 0.00/899k [00:00<?, ?B/s]"
            ],
            "application/vnd.jupyter.widget-view+json": {
              "version_major": 2,
              "version_minor": 0,
              "model_id": "6f5fc22d777047329fc1368baf6bb28a"
            }
          },
          "metadata": {}
        },
        {
          "output_type": "display_data",
          "data": {
            "text/plain": [
              "Downloading (…)olve/main/merges.txt:   0%|          | 0.00/456k [00:00<?, ?B/s]"
            ],
            "application/vnd.jupyter.widget-view+json": {
              "version_major": 2,
              "version_minor": 0,
              "model_id": "82fd7ee1b7234924a7c6f37d4429cf44"
            }
          },
          "metadata": {}
        }
      ]
    },
    {
      "cell_type": "code",
      "source": [
        "def bart_summarize(input_text, num_beams=4, num_words=80):\n",
        "\n",
        "    #removes any extra spaces\n",
        "    input_text = ' '.join(input_text.split())\n",
        "\n",
        "    #tokenizes the preprocessed input_text using the BART tokenizer\n",
        "    #tokenized input is returned as a PyTorch tensor ('pt').\n",
        "    input_tokenized = bart_tokenizer.encode(input_text, return_tensors='pt')\n",
        "\n",
        "    #generates summary using the BART model\n",
        "    summary_ids = bart_model.generate(input_tokenized, num_beams=int(num_beams), no_repeat_ngram_size=3, length_penalty=2.0, min_length=10, max_length=int(num_words), early_stopping=True)\n",
        "\n",
        "    #decodes the generated summary IDs back into human-readable text.\n",
        "    #retains the original spacing\n",
        "    output = [bart_tokenizer.decode(g, skip_special_tokens=True, clean_up_tokenization_spaces=False) for g in summary_ids]\n",
        "\n",
        "    #generates first summary\n",
        "    return output[0]"
      ],
      "metadata": {
        "id": "8qqdvZpUJsey"
      },
      "execution_count": 37,
      "outputs": []
    },
    {
      "cell_type": "code",
      "source": [
        "for i in range(5):\n",
        "  print(\"Whole Article:\",cleaned_articles[i])\n",
        "  print('Original Summary:',cleaned_highlights[i])\n",
        "  print(\"Bart Predicted Summary:\", bart_summarize(cleaned_articles[i]))\n",
        "  print('---')\n",
        "  print()"
      ],
      "metadata": {
        "colab": {
          "base_uri": "https://localhost:8080/"
        },
        "id": "sR5fy5xDOMpU",
        "outputId": "b2eb8d0e-97ab-40ef-83a0-0729b6e1c5d8"
      },
      "execution_count": 38,
      "outputs": [
        {
          "output_type": "stream",
          "name": "stdout",
          "text": [
            "Whole Article: london england reuters harry potter star daniel radcliffe gain access reported 20 million 41 1 million fortune turn 18 monday insists money cast spell daniel radcliffe harry potter harry potter order phoenix disappointment gossip columnist around world young actor say plan fritter cash away fast car drink celebrity party plan one people soon turn 18 suddenly buy massive sport car collection something similar told australian interviewer earlier month think particularly extravagant thing like buying thing cost 10 pound book cd dvd 18 radcliffe able gamble casino buy drink pub see horror film hostel part ii currently six place number one movie uk box office chart detail mark landmark birthday wrap agent publicist comment plan definitely sort party said interview hopefully none reading radcliffe earnings first five potter film held trust fund able touch despite growing fame rich actor say keeping foot firmly ground people always looking say kid star go rail told reporter last month try hard go way would easy latest outing boy wizard harry potter order phoenix breaking record side atlantic reprise role last two film watch reporter give review potter latest life beyond potter however londoner filmed tv movie called boy jack author rudyard kipling son due release later year also appear december boy australian film four boy escape orphanage earlier year made stage debut playing tortured teenager peter shaffer equus meanwhile braced even closer medium scrutiny legally adult think going sort fair game told reuters e mail friend copyright 2007 reuters right reserved material may published broadcast rewritten redistributed\n",
            "Original Summary: mentally ill inmate miami housed forgotten floor judge steven leifman say result avoidable felony cnn tour facility patient shout son president leifman say system unjust fighting change\n",
            "Bart Predicted Summary: london england reuters harry potter star daniel radcliffe gain access reported 20 million 41 1 million fortune turn 18 monday insists money cast spell. young actor say plan fritter cash away fast car drink celebrity party plan one people soon turn 18 suddenly buy massive sport car collection.\n",
            "---\n",
            "\n",
            "Whole Article: minneapolis minnesota cnn driver minneapolis bridge collapsed told harrowing tale survival whole bridge one side mississippi completely gave way fell way survivor gary babineau told cnn probably 30 35 foot free fall car water car fire whole bridge said back injured determined could move around realized school bus right next couple guy went started lifting kid bridge yelling screaming bleeding think broken bone watch driver describe narrow escape home heard disaster dr john hink emergency room physician jumped car rushed scene 15 minute arrived south side bridge stood riverbank saw dozen people lying dazed expansive deck middle mississippi river churning fast way getting went north side easier access people ambulance also hard time driving river get closer scene working feverishly volunteer emts official managed get 55 people ambulance le two hour occasionally pickup truck medic inside would drive get injured person bring back even ground hink told cnn rescue effort controlled organized said opposite lightning quick collapse could see whole bridge going falling babineau said gave rumble real quick gave way fell completely way ground dust everywhere like everyone saying like movie babineau said rear pickup truck dangling edge broken section bridge said several vehicle slid past water stayed car one two second saw couple car fall said stayed car car quit falling second got real quick ran front truck behind truck hole helped woman bridge wanted bridge ran school bus started grabbing kid handing complete chaos said child cry screaming rescuer set ground told run river bank needed carried injury see rescuer clamber rubble babineau said rescue training knew moment melissa hughes 32 minneapolis told associated press driving home western edge bridge collapsed know free fall feeling felt twice hughes said pickup landed top car hurt idea vehicle car told ap really surreal babineau told minneapolis star tribune way thought dead literally thought dead truck completely face pointed toward ground truck got ripped half folded half believe alive see hear eyewitness account bernie toivonen told cnn american morning vehicle part bridge ended tilted 45 degree angle knew deck going question thought going die said bridge settled car remained upright put park turned key said oh alive said e mail friend\n",
            "Original Summary: new thought going die driver say man say pickup truck folded half cut face driver probably 30 35 foot free fall minnesota bridge collapsed rush hour wednesday\n",
            "Bart Predicted Summary: minneapolis minnesota cnn driver minneapolis bridge collapsed told harrowing tale survival whole bridge one side mississippi completely gave way fell way survivor gary babineau told cnn probably 30 35 foot free fall car water car fire whole bridge said back injured determined could move around realized school bus right next couple guy went started lifting kid bridge yelling screaming bleeding think broken bone.\n",
            "---\n",
            "\n",
            "Whole Article: washington cnn doctor removed five small polyp president bush colon saturday none appeared worrisome white house spokesman said polyp removed sent national naval medical center bethesda maryland routine microscopic examination spokesman scott stanzel said result expected two three day small le centimeter half inch diameter said bush good humor stanzel said resume activity camp david procedure vice president dick cheney assumed presidential power bush reclaimed presidential power 9 21 two hour doctor used monitored anesthesia care stanzel said president asleep deeply unconscious true general anesthetic spoke first lady laura bush midland texas celebrating mother birthday procedure stanzel said afterward president played scottish terrier barney miss beazley stanzel said planned lunch camp david briefing national security adviser stephen hadley white house chief staff josh bolten planned take bicycle ride saturday afternoon cheney meanwhile spent morning home maryland eastern shore reading playing dog stanzel said nothing occurred required take official action president bush reclaimed presidential power procedure supervised dr richard tubb bush physician conducted multidisciplinary team national naval medical center bethesda maryland white house said bush last colonoscopy june 2002 abnormality found white house spokesman tony snow said president doctor recommended repeat procedure five year colonoscopy sensitive test colon cancer rectal cancer polyp small clump cell become cancerous according mayo clinic small polyp may removed procedure snow said friday bush polyp removed colonoscopy becoming president snow undergoing chemotherapy cancer began colon spread liver watch snow talk bush procedure colon cancer president want encourage everybody use surveillance snow said american cancer society recommends people without high risk factor symptom begin getting screened sign colorectal cancer age 50 e mail friend\n",
            "Original Summary: five small polyp found procedure none worrisome spokesman say president reclaims power transferred vice president bush undergoes routine colonoscopy camp david\n",
            "Bart Predicted Summary: President bush had his first colonoscopy on Friday. On Saturday none appeared worrisome. President cheney meanwhile spent the day playing with his dog.\n",
            "---\n",
            "\n",
            "Whole Article: cnn national football league indefinitely suspended atlanta falcon quarterback michael vick without pay official league said friday nfl star michael vick set appear court monday judge final say plea deal earlier vick admitted participating dogfighting ring part plea agreement federal prosecutor virginia admitted conduct illegal also cruel reprehensible team nfl nfl fan hurt action nfl commissioner roger goodell said letter vick goodell said would review status suspension legal proceeding paper filed friday federal court virginia vick also admitted two co conspirator killed dog fight well falcon owner arthur blank said vick admission describe action incomprehensible unacceptable suspension make strong statement conduct tarnish good reputation nfl tolerated said statement watch led vick suspension goodell said falcon could assert claim remedy recover 22 million vick signing bonus 10 year 130 million contract signed 2004 according associated press vick said would plead guilty one count conspiracy travel interstate commerce aid unlawful activity sponsor dog animal fighting venture plea agreement filed u district court richmond virginia charge punishable five year prison 250 000 fine full restitution special assessment 3 year supervised release plea deal said federal prosecutor agreed ask low end sentencing guideline defendant plead guilty defendant fact guilty charged offense plea agreement said additional summary fact signed vick filed agreement vick admitted buying pit bull property used training fighting dog statement said bet fight receive money bad newz kennel operation gambling monies provided vick official summary fact said gambling win generally split among co conspirator tony taylor quanis phillips sometimes purnell peace continued vick gamble placing side bet fight vick receive proceeds purse bad newz kennel vick also agreed collective effort two others caused death least six dog around april vick peace phillips tested dog fighting session vick property virginia statement said peace phillips vick agreed killing approximately 6 8 dog perform well testing session 1915 moonlight road dog killed various method including hanging drowning vick agrees stipulates dog died result collective effort peace phillips vick summary said peace 35 virginia beach virginia phillips 28 atlanta georgia taylor 34 hampton virginia already accepted agreement plead guilty exchange reduced sentence vick 27 scheduled appear monday court expected plead guilty judge see timeline case vick judge case final say plea agreement federal case vick focused interstate conspiracy vick admission involved killing dog could lead local charge according cnn legal analyst jeffrey toobin sometimes happens often state follow federal prosecution charging crime exactly behavior toobin said friday risk vick make admission federal guilty plea state virginia could say hey look admitted violating virginia state law well going introduce charge court plea deal vick agreed cooperate investigator provide information may criminal activity testify necessary vick also agreed turn document submit polygraph test vick agreed make restitution full amount cost associated dog held government cost may include limited cost associated care dog involved case including necessary long term care humane euthanasia animal prosecutor support animal right activist asked permission euthanize dog dog could serve important evidence case vick admitted co conspirator judge henry e hudson issued order thursday telling u marshal service arrest seize defendant property use discretion whatever mean appropriate protect maintain said defendant property judge order vick filing refer approximately 53 pit bull dog vick indictment last month goodell ordered quarterback report falcon training camp league reviewing case blank told nfl network monday could speculate vick future falcon least seen statement fact case e mail friend cnn mike phelan contributed report\n",
            "Original Summary: new nfl chief atlanta falcon owner critical michael vick conduct nfl suspends falcon quarterback indefinitely without pay vick admits funding dogfighting operation say gamble vick due federal court monday future nfl remains uncertain\n",
            "Bart Predicted Summary: National football league indefinitely suspended atlanta falcon quarterback michael vick without pay official league said friday. vick admitted participating dogfighting ring part plea agreement federal prosecutor virginia admitted conduct illegal also cruel reprehensible team nfl nfl fan hurt action nfl commissioner roger goodell said letter vick would review status suspension legal proceeding paper filed friday federal court virginia\n",
            "---\n",
            "\n",
            "Whole Article: baghdad iraq cnn dressed superman shirt 5 year old youssif held sister hand friday seemingly unaware million people across world touched story nearby parent talked new future hope boy potential recovery severe burn youssif hold sister hand friday wearing facial mask often used help burn victim best birthday present iraqi family could ever imagined boy youssif turn 6 next friday happy know mother zainab told cnn broad smile across face think reaction would big father said roof house cnn called news outpouring support son want thank everyone come forward said knew kindness like wife stop smiling talked tried vain get help son baghdad leaving stone unturned mission help boy many trip ministry health say even put request iraq parliament help family eventually told cnn story youssif grabbed masked men outside home january 15 doused gasoline set fire simply coming forward parent put incredible danger one arrested held accountable youssif case watch cnn arwa damon describe truly phenomenal outpouring shortly youssif story aired wednesday child burn foundation nonprofit organization based sherman oak california provides support burn victim locally nationally internationally agreed pay transportation youssif family come united state set fund donation make donation foundation site clicking drop menu general donation area marked youssif fund foundation say cover medical cost surgery youssif housing cost social rehabilitation might needed surgery performed dr peter grossman plastic surgeon affiliated grossman burn center donating service youssif cause official still trying get appropriate visa family travel prepared come set housing situation provide support begin treatment said barbara friedman executive director child burn foundation expect treatment six month year many surgery added getting absolute best care available youssif parent said know going lengthy difficult process adjusting stay america may easy none matter getting help boy first foremost anything youssif father said pulling son closer child everything mother tried coax youssif talk u day want mother say shy outside home biggest obstacle getting visa leave serious security risk face every day hour remain iraq family saw worst humanity january day new hope world partly due ten thousand cnn com user moved story wanted act cnn iraqi staff central bringing story together also overwhelmed generosity coming people outside border nation largely feel abandoned rest world refreshing realization e mail friend cnn com senior producer wayne drash contributed report atlanta\n",
            "Original Summary: parent beam pride stop smiling outpouring support mom happy know burn center u offered provide treatment reconstructive surgery dad say anything youssif\n",
            "Bart Predicted Summary: baghdad iraq cnn dressed superman shirt 5 year old youssif held sister hand friday seemingly unaware million people across world touched story nearby parent talked new future hope boy potential recovery severe burn. cnn called news outpouring support son want thank everyone come forward.\n",
            "---\n",
            "\n"
          ]
        }
      ]
    },
    {
      "cell_type": "markdown",
      "source": [
        "ROUGE score calculation"
      ],
      "metadata": {
        "id": "7u4_sn2KQxF8"
      }
    },
    {
      "cell_type": "code",
      "source": [
        "!pip install rouge-score\n",
        "!pip install rouge"
      ],
      "metadata": {
        "colab": {
          "base_uri": "https://localhost:8080/"
        },
        "id": "fIlCQxPbONWy",
        "outputId": "ac227748-2acf-4b0b-dec9-25b580dca17f"
      },
      "execution_count": 39,
      "outputs": [
        {
          "output_type": "stream",
          "name": "stdout",
          "text": [
            "Collecting rouge-score\n",
            "  Downloading rouge_score-0.1.2.tar.gz (17 kB)\n",
            "  Preparing metadata (setup.py) ... \u001b[?25l\u001b[?25hdone\n",
            "Requirement already satisfied: absl-py in /usr/local/lib/python3.10/dist-packages (from rouge-score) (1.4.0)\n",
            "Requirement already satisfied: nltk in /usr/local/lib/python3.10/dist-packages (from rouge-score) (3.8.1)\n",
            "Requirement already satisfied: numpy in /usr/local/lib/python3.10/dist-packages (from rouge-score) (1.23.5)\n",
            "Requirement already satisfied: six>=1.14.0 in /usr/local/lib/python3.10/dist-packages (from rouge-score) (1.16.0)\n",
            "Requirement already satisfied: click in /usr/local/lib/python3.10/dist-packages (from nltk->rouge-score) (8.1.7)\n",
            "Requirement already satisfied: joblib in /usr/local/lib/python3.10/dist-packages (from nltk->rouge-score) (1.3.2)\n",
            "Requirement already satisfied: regex>=2021.8.3 in /usr/local/lib/python3.10/dist-packages (from nltk->rouge-score) (2023.6.3)\n",
            "Requirement already satisfied: tqdm in /usr/local/lib/python3.10/dist-packages (from nltk->rouge-score) (4.66.1)\n",
            "Building wheels for collected packages: rouge-score\n",
            "  Building wheel for rouge-score (setup.py) ... \u001b[?25l\u001b[?25hdone\n",
            "  Created wheel for rouge-score: filename=rouge_score-0.1.2-py3-none-any.whl size=24932 sha256=d0891f514cbf04180ba8ea21f59f2e7ad3080a02a677416ee9901d72e4e762ab\n",
            "  Stored in directory: /root/.cache/pip/wheels/5f/dd/89/461065a73be61a532ff8599a28e9beef17985c9e9c31e541b4\n",
            "Successfully built rouge-score\n",
            "Installing collected packages: rouge-score\n",
            "Successfully installed rouge-score-0.1.2\n",
            "Collecting rouge\n",
            "  Downloading rouge-1.0.1-py3-none-any.whl (13 kB)\n",
            "Requirement already satisfied: six in /usr/local/lib/python3.10/dist-packages (from rouge) (1.16.0)\n",
            "Installing collected packages: rouge\n",
            "Successfully installed rouge-1.0.1\n"
          ]
        }
      ]
    },
    {
      "cell_type": "code",
      "source": [
        "from rouge import Rouge\n",
        "\n",
        "# Define the generated summary and reference summary\n",
        "generated_summary_bart = '''President bush had his first colonoscopy on Friday.\n",
        "On Saturday none appeared worrisome. President bush reclaimed presidential power\n",
        "two hour doctor used monitored anesthesia care. Vice President cheney meanwhile spent morning\n",
        "home maryland eastern shore reading playing dog. The president played scottish terrier\n",
        "barney miss beazley after the procedure. He also planned to resume activity camp on Sunday.'''\n",
        "\n",
        "reference_summary = '''five small polyp found procedure none worrisome spokesman\n",
        "say president reclaims power transferred vice president bush undergoes routine colonoscopy camp david'''\n",
        "\n",
        "# Initialize Rouge scorer\n",
        "rouge_scorer = Rouge()\n",
        "\n",
        "# Calculate ROUGE scores\n",
        "rouge_scores = rouge_scorer.get_scores(generated_summary_bart,reference_summary)"
      ],
      "metadata": {
        "id": "qfeoi8SGOcNa"
      },
      "execution_count": 40,
      "outputs": []
    },
    {
      "cell_type": "code",
      "source": [
        "# Print the ROUGE scores\n",
        "print(\"ROUGE Scores:\")\n",
        "print(f\"ROUGE-1 Unigrams: {rouge_scores[0]['rouge-1']}\")\n",
        "print(f\"ROUGE-2 Bigrams: {rouge_scores[0]['rouge-2']}\")\n",
        "print(f\"ROUGE-L LCS: {rouge_scores[0]['rouge-l']}\")"
      ],
      "metadata": {
        "colab": {
          "base_uri": "https://localhost:8080/"
        },
        "id": "MWnaUI4wP35f",
        "outputId": "a7fb0fee-8f37-4032-8429-47e00253c6a8"
      },
      "execution_count": 41,
      "outputs": [
        {
          "output_type": "stream",
          "name": "stdout",
          "text": [
            "ROUGE Scores:\n",
            "ROUGE-1 Unigrams: {'r': 0.4, 'p': 0.14814814814814814, 'f': 0.21621621227173124}\n",
            "ROUGE-2 Bigrams: {'r': 0.0, 'p': 0.0, 'f': 0.0}\n",
            "ROUGE-L LCS: {'r': 0.3, 'p': 0.1111111111111111, 'f': 0.16216215821767724}\n"
          ]
        }
      ]
    },
    {
      "cell_type": "code",
      "source": [
        "# User define function for Input Article and Generate Summary\n",
        "def summarize_text(text, num_words):\n",
        "    # Generate summary using the bart model\n",
        "    summary = bart_summarize(text, num_words=num_words)\n",
        "    return summary\n",
        "\n",
        "# User Input\n",
        "user_input = input(\"Enter the text to summarize: \")\n",
        "# max length of summary\n",
        "num_words = 50\n",
        "\n",
        "# Generate Summary\n",
        "summary = summarize_text(user_input,num_words)\n",
        "\n",
        "print(\"Input Text:\",user_input)\n",
        "print()\n",
        "print(\"Bart Generated Summary:\", summary)"
      ],
      "metadata": {
        "colab": {
          "base_uri": "https://localhost:8080/"
        },
        "id": "4jW5dwX8OmwC",
        "outputId": "989c4d6c-88af-483b-d25f-88fffb47fd76"
      },
      "execution_count": 46,
      "outputs": [
        {
          "output_type": "stream",
          "name": "stdout",
          "text": [
            "Enter the text to summarize: If you want to create a machine learning model but say you don’t have a computer that can take the workload, Google Colab is the platform for you. Even if you have a GPU or a good computer creating a local environment with Anaconda and installing packages and resolving installation issues are a hassle. Colab is a free Jupyter Notebook environment provided by Google where you can use free GPUs and TPUs which can solve all these issues.\n",
            "Input Text: If you want to create a machine learning model but say you don’t have a computer that can take the workload, Google Colab is the platform for you. Even if you have a GPU or a good computer creating a local environment with Anaconda and installing packages and resolving installation issues are a hassle. Colab is a free Jupyter Notebook environment provided by Google where you can use free GPUs and TPUs which can solve all these issues.\n",
            "\n",
            "Bart Generated Summary: If you want to create a machine learning model but say you don't have a computer that can take the workload, Google Colab is the platform for you. Even if you have a GPU or a good computer creating a local environment with\n"
          ]
        }
      ]
    },
    {
      "cell_type": "code",
      "source": [],
      "metadata": {
        "id": "cqIXb31DQZdj"
      },
      "execution_count": null,
      "outputs": []
    }
  ],
  "metadata": {
    "colab": {
      "provenance": []
    },
    "kernelspec": {
      "display_name": "Python 3",
      "name": "python3"
    },
    "language_info": {
      "name": "python"
    },
    "widgets": {
      "application/vnd.jupyter.widget-state+json": {
        "42353c5b57c942df81af8c52cc16145b": {
          "model_module": "@jupyter-widgets/controls",
          "model_name": "HBoxModel",
          "model_module_version": "1.5.0",
          "state": {
            "_dom_classes": [],
            "_model_module": "@jupyter-widgets/controls",
            "_model_module_version": "1.5.0",
            "_model_name": "HBoxModel",
            "_view_count": null,
            "_view_module": "@jupyter-widgets/controls",
            "_view_module_version": "1.5.0",
            "_view_name": "HBoxView",
            "box_style": "",
            "children": [
              "IPY_MODEL_8ef2d726c0824bdd8e4856dfe698cd7d",
              "IPY_MODEL_dec21dc24dbb4579b9cfbed8443a0468",
              "IPY_MODEL_0d91453b13f7431c9699cb17c4240dc3"
            ],
            "layout": "IPY_MODEL_2770946773b1479995806193d3e13784"
          }
        },
        "8ef2d726c0824bdd8e4856dfe698cd7d": {
          "model_module": "@jupyter-widgets/controls",
          "model_name": "HTMLModel",
          "model_module_version": "1.5.0",
          "state": {
            "_dom_classes": [],
            "_model_module": "@jupyter-widgets/controls",
            "_model_module_version": "1.5.0",
            "_model_name": "HTMLModel",
            "_view_count": null,
            "_view_module": "@jupyter-widgets/controls",
            "_view_module_version": "1.5.0",
            "_view_name": "HTMLView",
            "description": "",
            "description_tooltip": null,
            "layout": "IPY_MODEL_1478162120cc4db1b98203950c1e4b1b",
            "placeholder": "​",
            "style": "IPY_MODEL_cfcbcb28bafd4c5ca0ee4a9f9a7d53d0",
            "value": "Downloading (…)lve/main/config.json: 100%"
          }
        },
        "dec21dc24dbb4579b9cfbed8443a0468": {
          "model_module": "@jupyter-widgets/controls",
          "model_name": "FloatProgressModel",
          "model_module_version": "1.5.0",
          "state": {
            "_dom_classes": [],
            "_model_module": "@jupyter-widgets/controls",
            "_model_module_version": "1.5.0",
            "_model_name": "FloatProgressModel",
            "_view_count": null,
            "_view_module": "@jupyter-widgets/controls",
            "_view_module_version": "1.5.0",
            "_view_name": "ProgressView",
            "bar_style": "success",
            "description": "",
            "description_tooltip": null,
            "layout": "IPY_MODEL_bf094118a718456c87121ac9e2971107",
            "max": 1585,
            "min": 0,
            "orientation": "horizontal",
            "style": "IPY_MODEL_7de17a4d8b6f48eba5343adf721d2f49",
            "value": 1585
          }
        },
        "0d91453b13f7431c9699cb17c4240dc3": {
          "model_module": "@jupyter-widgets/controls",
          "model_name": "HTMLModel",
          "model_module_version": "1.5.0",
          "state": {
            "_dom_classes": [],
            "_model_module": "@jupyter-widgets/controls",
            "_model_module_version": "1.5.0",
            "_model_name": "HTMLModel",
            "_view_count": null,
            "_view_module": "@jupyter-widgets/controls",
            "_view_module_version": "1.5.0",
            "_view_name": "HTMLView",
            "description": "",
            "description_tooltip": null,
            "layout": "IPY_MODEL_7ea5bf633ef546f7bd83ea2980ba94c7",
            "placeholder": "​",
            "style": "IPY_MODEL_83ed196eef5b497e81d9c354f58b8c4a",
            "value": " 1.58k/1.58k [00:00&lt;00:00, 48.5kB/s]"
          }
        },
        "2770946773b1479995806193d3e13784": {
          "model_module": "@jupyter-widgets/base",
          "model_name": "LayoutModel",
          "model_module_version": "1.2.0",
          "state": {
            "_model_module": "@jupyter-widgets/base",
            "_model_module_version": "1.2.0",
            "_model_name": "LayoutModel",
            "_view_count": null,
            "_view_module": "@jupyter-widgets/base",
            "_view_module_version": "1.2.0",
            "_view_name": "LayoutView",
            "align_content": null,
            "align_items": null,
            "align_self": null,
            "border": null,
            "bottom": null,
            "display": null,
            "flex": null,
            "flex_flow": null,
            "grid_area": null,
            "grid_auto_columns": null,
            "grid_auto_flow": null,
            "grid_auto_rows": null,
            "grid_column": null,
            "grid_gap": null,
            "grid_row": null,
            "grid_template_areas": null,
            "grid_template_columns": null,
            "grid_template_rows": null,
            "height": null,
            "justify_content": null,
            "justify_items": null,
            "left": null,
            "margin": null,
            "max_height": null,
            "max_width": null,
            "min_height": null,
            "min_width": null,
            "object_fit": null,
            "object_position": null,
            "order": null,
            "overflow": null,
            "overflow_x": null,
            "overflow_y": null,
            "padding": null,
            "right": null,
            "top": null,
            "visibility": null,
            "width": null
          }
        },
        "1478162120cc4db1b98203950c1e4b1b": {
          "model_module": "@jupyter-widgets/base",
          "model_name": "LayoutModel",
          "model_module_version": "1.2.0",
          "state": {
            "_model_module": "@jupyter-widgets/base",
            "_model_module_version": "1.2.0",
            "_model_name": "LayoutModel",
            "_view_count": null,
            "_view_module": "@jupyter-widgets/base",
            "_view_module_version": "1.2.0",
            "_view_name": "LayoutView",
            "align_content": null,
            "align_items": null,
            "align_self": null,
            "border": null,
            "bottom": null,
            "display": null,
            "flex": null,
            "flex_flow": null,
            "grid_area": null,
            "grid_auto_columns": null,
            "grid_auto_flow": null,
            "grid_auto_rows": null,
            "grid_column": null,
            "grid_gap": null,
            "grid_row": null,
            "grid_template_areas": null,
            "grid_template_columns": null,
            "grid_template_rows": null,
            "height": null,
            "justify_content": null,
            "justify_items": null,
            "left": null,
            "margin": null,
            "max_height": null,
            "max_width": null,
            "min_height": null,
            "min_width": null,
            "object_fit": null,
            "object_position": null,
            "order": null,
            "overflow": null,
            "overflow_x": null,
            "overflow_y": null,
            "padding": null,
            "right": null,
            "top": null,
            "visibility": null,
            "width": null
          }
        },
        "cfcbcb28bafd4c5ca0ee4a9f9a7d53d0": {
          "model_module": "@jupyter-widgets/controls",
          "model_name": "DescriptionStyleModel",
          "model_module_version": "1.5.0",
          "state": {
            "_model_module": "@jupyter-widgets/controls",
            "_model_module_version": "1.5.0",
            "_model_name": "DescriptionStyleModel",
            "_view_count": null,
            "_view_module": "@jupyter-widgets/base",
            "_view_module_version": "1.2.0",
            "_view_name": "StyleView",
            "description_width": ""
          }
        },
        "bf094118a718456c87121ac9e2971107": {
          "model_module": "@jupyter-widgets/base",
          "model_name": "LayoutModel",
          "model_module_version": "1.2.0",
          "state": {
            "_model_module": "@jupyter-widgets/base",
            "_model_module_version": "1.2.0",
            "_model_name": "LayoutModel",
            "_view_count": null,
            "_view_module": "@jupyter-widgets/base",
            "_view_module_version": "1.2.0",
            "_view_name": "LayoutView",
            "align_content": null,
            "align_items": null,
            "align_self": null,
            "border": null,
            "bottom": null,
            "display": null,
            "flex": null,
            "flex_flow": null,
            "grid_area": null,
            "grid_auto_columns": null,
            "grid_auto_flow": null,
            "grid_auto_rows": null,
            "grid_column": null,
            "grid_gap": null,
            "grid_row": null,
            "grid_template_areas": null,
            "grid_template_columns": null,
            "grid_template_rows": null,
            "height": null,
            "justify_content": null,
            "justify_items": null,
            "left": null,
            "margin": null,
            "max_height": null,
            "max_width": null,
            "min_height": null,
            "min_width": null,
            "object_fit": null,
            "object_position": null,
            "order": null,
            "overflow": null,
            "overflow_x": null,
            "overflow_y": null,
            "padding": null,
            "right": null,
            "top": null,
            "visibility": null,
            "width": null
          }
        },
        "7de17a4d8b6f48eba5343adf721d2f49": {
          "model_module": "@jupyter-widgets/controls",
          "model_name": "ProgressStyleModel",
          "model_module_version": "1.5.0",
          "state": {
            "_model_module": "@jupyter-widgets/controls",
            "_model_module_version": "1.5.0",
            "_model_name": "ProgressStyleModel",
            "_view_count": null,
            "_view_module": "@jupyter-widgets/base",
            "_view_module_version": "1.2.0",
            "_view_name": "StyleView",
            "bar_color": null,
            "description_width": ""
          }
        },
        "7ea5bf633ef546f7bd83ea2980ba94c7": {
          "model_module": "@jupyter-widgets/base",
          "model_name": "LayoutModel",
          "model_module_version": "1.2.0",
          "state": {
            "_model_module": "@jupyter-widgets/base",
            "_model_module_version": "1.2.0",
            "_model_name": "LayoutModel",
            "_view_count": null,
            "_view_module": "@jupyter-widgets/base",
            "_view_module_version": "1.2.0",
            "_view_name": "LayoutView",
            "align_content": null,
            "align_items": null,
            "align_self": null,
            "border": null,
            "bottom": null,
            "display": null,
            "flex": null,
            "flex_flow": null,
            "grid_area": null,
            "grid_auto_columns": null,
            "grid_auto_flow": null,
            "grid_auto_rows": null,
            "grid_column": null,
            "grid_gap": null,
            "grid_row": null,
            "grid_template_areas": null,
            "grid_template_columns": null,
            "grid_template_rows": null,
            "height": null,
            "justify_content": null,
            "justify_items": null,
            "left": null,
            "margin": null,
            "max_height": null,
            "max_width": null,
            "min_height": null,
            "min_width": null,
            "object_fit": null,
            "object_position": null,
            "order": null,
            "overflow": null,
            "overflow_x": null,
            "overflow_y": null,
            "padding": null,
            "right": null,
            "top": null,
            "visibility": null,
            "width": null
          }
        },
        "83ed196eef5b497e81d9c354f58b8c4a": {
          "model_module": "@jupyter-widgets/controls",
          "model_name": "DescriptionStyleModel",
          "model_module_version": "1.5.0",
          "state": {
            "_model_module": "@jupyter-widgets/controls",
            "_model_module_version": "1.5.0",
            "_model_name": "DescriptionStyleModel",
            "_view_count": null,
            "_view_module": "@jupyter-widgets/base",
            "_view_module_version": "1.2.0",
            "_view_name": "StyleView",
            "description_width": ""
          }
        },
        "f666a1e1c1da4a7a94e239fee37e0be1": {
          "model_module": "@jupyter-widgets/controls",
          "model_name": "HBoxModel",
          "model_module_version": "1.5.0",
          "state": {
            "_dom_classes": [],
            "_model_module": "@jupyter-widgets/controls",
            "_model_module_version": "1.5.0",
            "_model_name": "HBoxModel",
            "_view_count": null,
            "_view_module": "@jupyter-widgets/controls",
            "_view_module_version": "1.5.0",
            "_view_name": "HBoxView",
            "box_style": "",
            "children": [
              "IPY_MODEL_c35aa71324d542f595dbf53b13a26531",
              "IPY_MODEL_a7240044efe94c2398de87c2083abadd",
              "IPY_MODEL_3e613762299d4479829f27ba385e8f61"
            ],
            "layout": "IPY_MODEL_c2d9c67facaa4a82b695c96ee141215e"
          }
        },
        "c35aa71324d542f595dbf53b13a26531": {
          "model_module": "@jupyter-widgets/controls",
          "model_name": "HTMLModel",
          "model_module_version": "1.5.0",
          "state": {
            "_dom_classes": [],
            "_model_module": "@jupyter-widgets/controls",
            "_model_module_version": "1.5.0",
            "_model_name": "HTMLModel",
            "_view_count": null,
            "_view_module": "@jupyter-widgets/controls",
            "_view_module_version": "1.5.0",
            "_view_name": "HTMLView",
            "description": "",
            "description_tooltip": null,
            "layout": "IPY_MODEL_c3095f4806b747d99254c1711dc3076f",
            "placeholder": "​",
            "style": "IPY_MODEL_cb3edcd3ab4f472784b69bb946013f4b",
            "value": "Downloading pytorch_model.bin: 100%"
          }
        },
        "a7240044efe94c2398de87c2083abadd": {
          "model_module": "@jupyter-widgets/controls",
          "model_name": "FloatProgressModel",
          "model_module_version": "1.5.0",
          "state": {
            "_dom_classes": [],
            "_model_module": "@jupyter-widgets/controls",
            "_model_module_version": "1.5.0",
            "_model_name": "FloatProgressModel",
            "_view_count": null,
            "_view_module": "@jupyter-widgets/controls",
            "_view_module_version": "1.5.0",
            "_view_name": "ProgressView",
            "bar_style": "success",
            "description": "",
            "description_tooltip": null,
            "layout": "IPY_MODEL_efba0c574b6a4044bb8da76a86931ef5",
            "max": 1625270765,
            "min": 0,
            "orientation": "horizontal",
            "style": "IPY_MODEL_03a3c4441e96441e89db4f473c2b78ec",
            "value": 1625270765
          }
        },
        "3e613762299d4479829f27ba385e8f61": {
          "model_module": "@jupyter-widgets/controls",
          "model_name": "HTMLModel",
          "model_module_version": "1.5.0",
          "state": {
            "_dom_classes": [],
            "_model_module": "@jupyter-widgets/controls",
            "_model_module_version": "1.5.0",
            "_model_name": "HTMLModel",
            "_view_count": null,
            "_view_module": "@jupyter-widgets/controls",
            "_view_module_version": "1.5.0",
            "_view_name": "HTMLView",
            "description": "",
            "description_tooltip": null,
            "layout": "IPY_MODEL_f0d1b67d47794f2bad9665f45dee44c4",
            "placeholder": "​",
            "style": "IPY_MODEL_27a8af624d5f4762811b5d01ec73a174",
            "value": " 1.63G/1.63G [00:19&lt;00:00, 166MB/s]"
          }
        },
        "c2d9c67facaa4a82b695c96ee141215e": {
          "model_module": "@jupyter-widgets/base",
          "model_name": "LayoutModel",
          "model_module_version": "1.2.0",
          "state": {
            "_model_module": "@jupyter-widgets/base",
            "_model_module_version": "1.2.0",
            "_model_name": "LayoutModel",
            "_view_count": null,
            "_view_module": "@jupyter-widgets/base",
            "_view_module_version": "1.2.0",
            "_view_name": "LayoutView",
            "align_content": null,
            "align_items": null,
            "align_self": null,
            "border": null,
            "bottom": null,
            "display": null,
            "flex": null,
            "flex_flow": null,
            "grid_area": null,
            "grid_auto_columns": null,
            "grid_auto_flow": null,
            "grid_auto_rows": null,
            "grid_column": null,
            "grid_gap": null,
            "grid_row": null,
            "grid_template_areas": null,
            "grid_template_columns": null,
            "grid_template_rows": null,
            "height": null,
            "justify_content": null,
            "justify_items": null,
            "left": null,
            "margin": null,
            "max_height": null,
            "max_width": null,
            "min_height": null,
            "min_width": null,
            "object_fit": null,
            "object_position": null,
            "order": null,
            "overflow": null,
            "overflow_x": null,
            "overflow_y": null,
            "padding": null,
            "right": null,
            "top": null,
            "visibility": null,
            "width": null
          }
        },
        "c3095f4806b747d99254c1711dc3076f": {
          "model_module": "@jupyter-widgets/base",
          "model_name": "LayoutModel",
          "model_module_version": "1.2.0",
          "state": {
            "_model_module": "@jupyter-widgets/base",
            "_model_module_version": "1.2.0",
            "_model_name": "LayoutModel",
            "_view_count": null,
            "_view_module": "@jupyter-widgets/base",
            "_view_module_version": "1.2.0",
            "_view_name": "LayoutView",
            "align_content": null,
            "align_items": null,
            "align_self": null,
            "border": null,
            "bottom": null,
            "display": null,
            "flex": null,
            "flex_flow": null,
            "grid_area": null,
            "grid_auto_columns": null,
            "grid_auto_flow": null,
            "grid_auto_rows": null,
            "grid_column": null,
            "grid_gap": null,
            "grid_row": null,
            "grid_template_areas": null,
            "grid_template_columns": null,
            "grid_template_rows": null,
            "height": null,
            "justify_content": null,
            "justify_items": null,
            "left": null,
            "margin": null,
            "max_height": null,
            "max_width": null,
            "min_height": null,
            "min_width": null,
            "object_fit": null,
            "object_position": null,
            "order": null,
            "overflow": null,
            "overflow_x": null,
            "overflow_y": null,
            "padding": null,
            "right": null,
            "top": null,
            "visibility": null,
            "width": null
          }
        },
        "cb3edcd3ab4f472784b69bb946013f4b": {
          "model_module": "@jupyter-widgets/controls",
          "model_name": "DescriptionStyleModel",
          "model_module_version": "1.5.0",
          "state": {
            "_model_module": "@jupyter-widgets/controls",
            "_model_module_version": "1.5.0",
            "_model_name": "DescriptionStyleModel",
            "_view_count": null,
            "_view_module": "@jupyter-widgets/base",
            "_view_module_version": "1.2.0",
            "_view_name": "StyleView",
            "description_width": ""
          }
        },
        "efba0c574b6a4044bb8da76a86931ef5": {
          "model_module": "@jupyter-widgets/base",
          "model_name": "LayoutModel",
          "model_module_version": "1.2.0",
          "state": {
            "_model_module": "@jupyter-widgets/base",
            "_model_module_version": "1.2.0",
            "_model_name": "LayoutModel",
            "_view_count": null,
            "_view_module": "@jupyter-widgets/base",
            "_view_module_version": "1.2.0",
            "_view_name": "LayoutView",
            "align_content": null,
            "align_items": null,
            "align_self": null,
            "border": null,
            "bottom": null,
            "display": null,
            "flex": null,
            "flex_flow": null,
            "grid_area": null,
            "grid_auto_columns": null,
            "grid_auto_flow": null,
            "grid_auto_rows": null,
            "grid_column": null,
            "grid_gap": null,
            "grid_row": null,
            "grid_template_areas": null,
            "grid_template_columns": null,
            "grid_template_rows": null,
            "height": null,
            "justify_content": null,
            "justify_items": null,
            "left": null,
            "margin": null,
            "max_height": null,
            "max_width": null,
            "min_height": null,
            "min_width": null,
            "object_fit": null,
            "object_position": null,
            "order": null,
            "overflow": null,
            "overflow_x": null,
            "overflow_y": null,
            "padding": null,
            "right": null,
            "top": null,
            "visibility": null,
            "width": null
          }
        },
        "03a3c4441e96441e89db4f473c2b78ec": {
          "model_module": "@jupyter-widgets/controls",
          "model_name": "ProgressStyleModel",
          "model_module_version": "1.5.0",
          "state": {
            "_model_module": "@jupyter-widgets/controls",
            "_model_module_version": "1.5.0",
            "_model_name": "ProgressStyleModel",
            "_view_count": null,
            "_view_module": "@jupyter-widgets/base",
            "_view_module_version": "1.2.0",
            "_view_name": "StyleView",
            "bar_color": null,
            "description_width": ""
          }
        },
        "f0d1b67d47794f2bad9665f45dee44c4": {
          "model_module": "@jupyter-widgets/base",
          "model_name": "LayoutModel",
          "model_module_version": "1.2.0",
          "state": {
            "_model_module": "@jupyter-widgets/base",
            "_model_module_version": "1.2.0",
            "_model_name": "LayoutModel",
            "_view_count": null,
            "_view_module": "@jupyter-widgets/base",
            "_view_module_version": "1.2.0",
            "_view_name": "LayoutView",
            "align_content": null,
            "align_items": null,
            "align_self": null,
            "border": null,
            "bottom": null,
            "display": null,
            "flex": null,
            "flex_flow": null,
            "grid_area": null,
            "grid_auto_columns": null,
            "grid_auto_flow": null,
            "grid_auto_rows": null,
            "grid_column": null,
            "grid_gap": null,
            "grid_row": null,
            "grid_template_areas": null,
            "grid_template_columns": null,
            "grid_template_rows": null,
            "height": null,
            "justify_content": null,
            "justify_items": null,
            "left": null,
            "margin": null,
            "max_height": null,
            "max_width": null,
            "min_height": null,
            "min_width": null,
            "object_fit": null,
            "object_position": null,
            "order": null,
            "overflow": null,
            "overflow_x": null,
            "overflow_y": null,
            "padding": null,
            "right": null,
            "top": null,
            "visibility": null,
            "width": null
          }
        },
        "27a8af624d5f4762811b5d01ec73a174": {
          "model_module": "@jupyter-widgets/controls",
          "model_name": "DescriptionStyleModel",
          "model_module_version": "1.5.0",
          "state": {
            "_model_module": "@jupyter-widgets/controls",
            "_model_module_version": "1.5.0",
            "_model_name": "DescriptionStyleModel",
            "_view_count": null,
            "_view_module": "@jupyter-widgets/base",
            "_view_module_version": "1.2.0",
            "_view_name": "StyleView",
            "description_width": ""
          }
        },
        "66c2ef0e6b214227becd11572dcb56ee": {
          "model_module": "@jupyter-widgets/controls",
          "model_name": "HBoxModel",
          "model_module_version": "1.5.0",
          "state": {
            "_dom_classes": [],
            "_model_module": "@jupyter-widgets/controls",
            "_model_module_version": "1.5.0",
            "_model_name": "HBoxModel",
            "_view_count": null,
            "_view_module": "@jupyter-widgets/controls",
            "_view_module_version": "1.5.0",
            "_view_name": "HBoxView",
            "box_style": "",
            "children": [
              "IPY_MODEL_7b6dd12ab9154b47bc8ec6af456e3d0b",
              "IPY_MODEL_26d79becd7a2493b96a333e2c5afa3be",
              "IPY_MODEL_950dd267bda347469141aef75661a8ab"
            ],
            "layout": "IPY_MODEL_65677dd5a46744b19b66a203303ea6ab"
          }
        },
        "7b6dd12ab9154b47bc8ec6af456e3d0b": {
          "model_module": "@jupyter-widgets/controls",
          "model_name": "HTMLModel",
          "model_module_version": "1.5.0",
          "state": {
            "_dom_classes": [],
            "_model_module": "@jupyter-widgets/controls",
            "_model_module_version": "1.5.0",
            "_model_name": "HTMLModel",
            "_view_count": null,
            "_view_module": "@jupyter-widgets/controls",
            "_view_module_version": "1.5.0",
            "_view_name": "HTMLView",
            "description": "",
            "description_tooltip": null,
            "layout": "IPY_MODEL_f3c41c074d1b4e3da42cbc89c8c0c37b",
            "placeholder": "​",
            "style": "IPY_MODEL_dac9d229593e42c5aaac58b4573d7d2f",
            "value": "Downloading (…)neration_config.json: 100%"
          }
        },
        "26d79becd7a2493b96a333e2c5afa3be": {
          "model_module": "@jupyter-widgets/controls",
          "model_name": "FloatProgressModel",
          "model_module_version": "1.5.0",
          "state": {
            "_dom_classes": [],
            "_model_module": "@jupyter-widgets/controls",
            "_model_module_version": "1.5.0",
            "_model_name": "FloatProgressModel",
            "_view_count": null,
            "_view_module": "@jupyter-widgets/controls",
            "_view_module_version": "1.5.0",
            "_view_name": "ProgressView",
            "bar_style": "success",
            "description": "",
            "description_tooltip": null,
            "layout": "IPY_MODEL_7d54e68d6fa24104a8aaa3979a247acf",
            "max": 363,
            "min": 0,
            "orientation": "horizontal",
            "style": "IPY_MODEL_3d97123bb0a745728867fbea4dff467e",
            "value": 363
          }
        },
        "950dd267bda347469141aef75661a8ab": {
          "model_module": "@jupyter-widgets/controls",
          "model_name": "HTMLModel",
          "model_module_version": "1.5.0",
          "state": {
            "_dom_classes": [],
            "_model_module": "@jupyter-widgets/controls",
            "_model_module_version": "1.5.0",
            "_model_name": "HTMLModel",
            "_view_count": null,
            "_view_module": "@jupyter-widgets/controls",
            "_view_module_version": "1.5.0",
            "_view_name": "HTMLView",
            "description": "",
            "description_tooltip": null,
            "layout": "IPY_MODEL_72b161ce774d4726b1c730119b0b3550",
            "placeholder": "​",
            "style": "IPY_MODEL_2f75dad5f11d42feb709291b29451720",
            "value": " 363/363 [00:00&lt;00:00, 17.9kB/s]"
          }
        },
        "65677dd5a46744b19b66a203303ea6ab": {
          "model_module": "@jupyter-widgets/base",
          "model_name": "LayoutModel",
          "model_module_version": "1.2.0",
          "state": {
            "_model_module": "@jupyter-widgets/base",
            "_model_module_version": "1.2.0",
            "_model_name": "LayoutModel",
            "_view_count": null,
            "_view_module": "@jupyter-widgets/base",
            "_view_module_version": "1.2.0",
            "_view_name": "LayoutView",
            "align_content": null,
            "align_items": null,
            "align_self": null,
            "border": null,
            "bottom": null,
            "display": null,
            "flex": null,
            "flex_flow": null,
            "grid_area": null,
            "grid_auto_columns": null,
            "grid_auto_flow": null,
            "grid_auto_rows": null,
            "grid_column": null,
            "grid_gap": null,
            "grid_row": null,
            "grid_template_areas": null,
            "grid_template_columns": null,
            "grid_template_rows": null,
            "height": null,
            "justify_content": null,
            "justify_items": null,
            "left": null,
            "margin": null,
            "max_height": null,
            "max_width": null,
            "min_height": null,
            "min_width": null,
            "object_fit": null,
            "object_position": null,
            "order": null,
            "overflow": null,
            "overflow_x": null,
            "overflow_y": null,
            "padding": null,
            "right": null,
            "top": null,
            "visibility": null,
            "width": null
          }
        },
        "f3c41c074d1b4e3da42cbc89c8c0c37b": {
          "model_module": "@jupyter-widgets/base",
          "model_name": "LayoutModel",
          "model_module_version": "1.2.0",
          "state": {
            "_model_module": "@jupyter-widgets/base",
            "_model_module_version": "1.2.0",
            "_model_name": "LayoutModel",
            "_view_count": null,
            "_view_module": "@jupyter-widgets/base",
            "_view_module_version": "1.2.0",
            "_view_name": "LayoutView",
            "align_content": null,
            "align_items": null,
            "align_self": null,
            "border": null,
            "bottom": null,
            "display": null,
            "flex": null,
            "flex_flow": null,
            "grid_area": null,
            "grid_auto_columns": null,
            "grid_auto_flow": null,
            "grid_auto_rows": null,
            "grid_column": null,
            "grid_gap": null,
            "grid_row": null,
            "grid_template_areas": null,
            "grid_template_columns": null,
            "grid_template_rows": null,
            "height": null,
            "justify_content": null,
            "justify_items": null,
            "left": null,
            "margin": null,
            "max_height": null,
            "max_width": null,
            "min_height": null,
            "min_width": null,
            "object_fit": null,
            "object_position": null,
            "order": null,
            "overflow": null,
            "overflow_x": null,
            "overflow_y": null,
            "padding": null,
            "right": null,
            "top": null,
            "visibility": null,
            "width": null
          }
        },
        "dac9d229593e42c5aaac58b4573d7d2f": {
          "model_module": "@jupyter-widgets/controls",
          "model_name": "DescriptionStyleModel",
          "model_module_version": "1.5.0",
          "state": {
            "_model_module": "@jupyter-widgets/controls",
            "_model_module_version": "1.5.0",
            "_model_name": "DescriptionStyleModel",
            "_view_count": null,
            "_view_module": "@jupyter-widgets/base",
            "_view_module_version": "1.2.0",
            "_view_name": "StyleView",
            "description_width": ""
          }
        },
        "7d54e68d6fa24104a8aaa3979a247acf": {
          "model_module": "@jupyter-widgets/base",
          "model_name": "LayoutModel",
          "model_module_version": "1.2.0",
          "state": {
            "_model_module": "@jupyter-widgets/base",
            "_model_module_version": "1.2.0",
            "_model_name": "LayoutModel",
            "_view_count": null,
            "_view_module": "@jupyter-widgets/base",
            "_view_module_version": "1.2.0",
            "_view_name": "LayoutView",
            "align_content": null,
            "align_items": null,
            "align_self": null,
            "border": null,
            "bottom": null,
            "display": null,
            "flex": null,
            "flex_flow": null,
            "grid_area": null,
            "grid_auto_columns": null,
            "grid_auto_flow": null,
            "grid_auto_rows": null,
            "grid_column": null,
            "grid_gap": null,
            "grid_row": null,
            "grid_template_areas": null,
            "grid_template_columns": null,
            "grid_template_rows": null,
            "height": null,
            "justify_content": null,
            "justify_items": null,
            "left": null,
            "margin": null,
            "max_height": null,
            "max_width": null,
            "min_height": null,
            "min_width": null,
            "object_fit": null,
            "object_position": null,
            "order": null,
            "overflow": null,
            "overflow_x": null,
            "overflow_y": null,
            "padding": null,
            "right": null,
            "top": null,
            "visibility": null,
            "width": null
          }
        },
        "3d97123bb0a745728867fbea4dff467e": {
          "model_module": "@jupyter-widgets/controls",
          "model_name": "ProgressStyleModel",
          "model_module_version": "1.5.0",
          "state": {
            "_model_module": "@jupyter-widgets/controls",
            "_model_module_version": "1.5.0",
            "_model_name": "ProgressStyleModel",
            "_view_count": null,
            "_view_module": "@jupyter-widgets/base",
            "_view_module_version": "1.2.0",
            "_view_name": "StyleView",
            "bar_color": null,
            "description_width": ""
          }
        },
        "72b161ce774d4726b1c730119b0b3550": {
          "model_module": "@jupyter-widgets/base",
          "model_name": "LayoutModel",
          "model_module_version": "1.2.0",
          "state": {
            "_model_module": "@jupyter-widgets/base",
            "_model_module_version": "1.2.0",
            "_model_name": "LayoutModel",
            "_view_count": null,
            "_view_module": "@jupyter-widgets/base",
            "_view_module_version": "1.2.0",
            "_view_name": "LayoutView",
            "align_content": null,
            "align_items": null,
            "align_self": null,
            "border": null,
            "bottom": null,
            "display": null,
            "flex": null,
            "flex_flow": null,
            "grid_area": null,
            "grid_auto_columns": null,
            "grid_auto_flow": null,
            "grid_auto_rows": null,
            "grid_column": null,
            "grid_gap": null,
            "grid_row": null,
            "grid_template_areas": null,
            "grid_template_columns": null,
            "grid_template_rows": null,
            "height": null,
            "justify_content": null,
            "justify_items": null,
            "left": null,
            "margin": null,
            "max_height": null,
            "max_width": null,
            "min_height": null,
            "min_width": null,
            "object_fit": null,
            "object_position": null,
            "order": null,
            "overflow": null,
            "overflow_x": null,
            "overflow_y": null,
            "padding": null,
            "right": null,
            "top": null,
            "visibility": null,
            "width": null
          }
        },
        "2f75dad5f11d42feb709291b29451720": {
          "model_module": "@jupyter-widgets/controls",
          "model_name": "DescriptionStyleModel",
          "model_module_version": "1.5.0",
          "state": {
            "_model_module": "@jupyter-widgets/controls",
            "_model_module_version": "1.5.0",
            "_model_name": "DescriptionStyleModel",
            "_view_count": null,
            "_view_module": "@jupyter-widgets/base",
            "_view_module_version": "1.2.0",
            "_view_name": "StyleView",
            "description_width": ""
          }
        },
        "6f5fc22d777047329fc1368baf6bb28a": {
          "model_module": "@jupyter-widgets/controls",
          "model_name": "HBoxModel",
          "model_module_version": "1.5.0",
          "state": {
            "_dom_classes": [],
            "_model_module": "@jupyter-widgets/controls",
            "_model_module_version": "1.5.0",
            "_model_name": "HBoxModel",
            "_view_count": null,
            "_view_module": "@jupyter-widgets/controls",
            "_view_module_version": "1.5.0",
            "_view_name": "HBoxView",
            "box_style": "",
            "children": [
              "IPY_MODEL_8c11738cedd54b49947ba42458810f40",
              "IPY_MODEL_050ce540e4804771a3f53c17f7674f2f",
              "IPY_MODEL_080bff6084b64d529f7615af5cd748a2"
            ],
            "layout": "IPY_MODEL_437786466e0b4781a9588f7420b8cccc"
          }
        },
        "8c11738cedd54b49947ba42458810f40": {
          "model_module": "@jupyter-widgets/controls",
          "model_name": "HTMLModel",
          "model_module_version": "1.5.0",
          "state": {
            "_dom_classes": [],
            "_model_module": "@jupyter-widgets/controls",
            "_model_module_version": "1.5.0",
            "_model_name": "HTMLModel",
            "_view_count": null,
            "_view_module": "@jupyter-widgets/controls",
            "_view_module_version": "1.5.0",
            "_view_name": "HTMLView",
            "description": "",
            "description_tooltip": null,
            "layout": "IPY_MODEL_42ec13c3a4844bf09fda55c0a71a973d",
            "placeholder": "​",
            "style": "IPY_MODEL_f8d7dbcd70ea45a2ab3816cefa20cb86",
            "value": "Downloading (…)olve/main/vocab.json: 100%"
          }
        },
        "050ce540e4804771a3f53c17f7674f2f": {
          "model_module": "@jupyter-widgets/controls",
          "model_name": "FloatProgressModel",
          "model_module_version": "1.5.0",
          "state": {
            "_dom_classes": [],
            "_model_module": "@jupyter-widgets/controls",
            "_model_module_version": "1.5.0",
            "_model_name": "FloatProgressModel",
            "_view_count": null,
            "_view_module": "@jupyter-widgets/controls",
            "_view_module_version": "1.5.0",
            "_view_name": "ProgressView",
            "bar_style": "success",
            "description": "",
            "description_tooltip": null,
            "layout": "IPY_MODEL_7d6482f9ac284d1c86523edab1704a42",
            "max": 898823,
            "min": 0,
            "orientation": "horizontal",
            "style": "IPY_MODEL_b81a8e9a0ccf46cc9e3e851a32ab9273",
            "value": 898823
          }
        },
        "080bff6084b64d529f7615af5cd748a2": {
          "model_module": "@jupyter-widgets/controls",
          "model_name": "HTMLModel",
          "model_module_version": "1.5.0",
          "state": {
            "_dom_classes": [],
            "_model_module": "@jupyter-widgets/controls",
            "_model_module_version": "1.5.0",
            "_model_name": "HTMLModel",
            "_view_count": null,
            "_view_module": "@jupyter-widgets/controls",
            "_view_module_version": "1.5.0",
            "_view_name": "HTMLView",
            "description": "",
            "description_tooltip": null,
            "layout": "IPY_MODEL_5e1843f9e30c442681b611a5485a81c2",
            "placeholder": "​",
            "style": "IPY_MODEL_3c31fe42804d4c20a9cd687a087d9c56",
            "value": " 899k/899k [00:00&lt;00:00, 9.52MB/s]"
          }
        },
        "437786466e0b4781a9588f7420b8cccc": {
          "model_module": "@jupyter-widgets/base",
          "model_name": "LayoutModel",
          "model_module_version": "1.2.0",
          "state": {
            "_model_module": "@jupyter-widgets/base",
            "_model_module_version": "1.2.0",
            "_model_name": "LayoutModel",
            "_view_count": null,
            "_view_module": "@jupyter-widgets/base",
            "_view_module_version": "1.2.0",
            "_view_name": "LayoutView",
            "align_content": null,
            "align_items": null,
            "align_self": null,
            "border": null,
            "bottom": null,
            "display": null,
            "flex": null,
            "flex_flow": null,
            "grid_area": null,
            "grid_auto_columns": null,
            "grid_auto_flow": null,
            "grid_auto_rows": null,
            "grid_column": null,
            "grid_gap": null,
            "grid_row": null,
            "grid_template_areas": null,
            "grid_template_columns": null,
            "grid_template_rows": null,
            "height": null,
            "justify_content": null,
            "justify_items": null,
            "left": null,
            "margin": null,
            "max_height": null,
            "max_width": null,
            "min_height": null,
            "min_width": null,
            "object_fit": null,
            "object_position": null,
            "order": null,
            "overflow": null,
            "overflow_x": null,
            "overflow_y": null,
            "padding": null,
            "right": null,
            "top": null,
            "visibility": null,
            "width": null
          }
        },
        "42ec13c3a4844bf09fda55c0a71a973d": {
          "model_module": "@jupyter-widgets/base",
          "model_name": "LayoutModel",
          "model_module_version": "1.2.0",
          "state": {
            "_model_module": "@jupyter-widgets/base",
            "_model_module_version": "1.2.0",
            "_model_name": "LayoutModel",
            "_view_count": null,
            "_view_module": "@jupyter-widgets/base",
            "_view_module_version": "1.2.0",
            "_view_name": "LayoutView",
            "align_content": null,
            "align_items": null,
            "align_self": null,
            "border": null,
            "bottom": null,
            "display": null,
            "flex": null,
            "flex_flow": null,
            "grid_area": null,
            "grid_auto_columns": null,
            "grid_auto_flow": null,
            "grid_auto_rows": null,
            "grid_column": null,
            "grid_gap": null,
            "grid_row": null,
            "grid_template_areas": null,
            "grid_template_columns": null,
            "grid_template_rows": null,
            "height": null,
            "justify_content": null,
            "justify_items": null,
            "left": null,
            "margin": null,
            "max_height": null,
            "max_width": null,
            "min_height": null,
            "min_width": null,
            "object_fit": null,
            "object_position": null,
            "order": null,
            "overflow": null,
            "overflow_x": null,
            "overflow_y": null,
            "padding": null,
            "right": null,
            "top": null,
            "visibility": null,
            "width": null
          }
        },
        "f8d7dbcd70ea45a2ab3816cefa20cb86": {
          "model_module": "@jupyter-widgets/controls",
          "model_name": "DescriptionStyleModel",
          "model_module_version": "1.5.0",
          "state": {
            "_model_module": "@jupyter-widgets/controls",
            "_model_module_version": "1.5.0",
            "_model_name": "DescriptionStyleModel",
            "_view_count": null,
            "_view_module": "@jupyter-widgets/base",
            "_view_module_version": "1.2.0",
            "_view_name": "StyleView",
            "description_width": ""
          }
        },
        "7d6482f9ac284d1c86523edab1704a42": {
          "model_module": "@jupyter-widgets/base",
          "model_name": "LayoutModel",
          "model_module_version": "1.2.0",
          "state": {
            "_model_module": "@jupyter-widgets/base",
            "_model_module_version": "1.2.0",
            "_model_name": "LayoutModel",
            "_view_count": null,
            "_view_module": "@jupyter-widgets/base",
            "_view_module_version": "1.2.0",
            "_view_name": "LayoutView",
            "align_content": null,
            "align_items": null,
            "align_self": null,
            "border": null,
            "bottom": null,
            "display": null,
            "flex": null,
            "flex_flow": null,
            "grid_area": null,
            "grid_auto_columns": null,
            "grid_auto_flow": null,
            "grid_auto_rows": null,
            "grid_column": null,
            "grid_gap": null,
            "grid_row": null,
            "grid_template_areas": null,
            "grid_template_columns": null,
            "grid_template_rows": null,
            "height": null,
            "justify_content": null,
            "justify_items": null,
            "left": null,
            "margin": null,
            "max_height": null,
            "max_width": null,
            "min_height": null,
            "min_width": null,
            "object_fit": null,
            "object_position": null,
            "order": null,
            "overflow": null,
            "overflow_x": null,
            "overflow_y": null,
            "padding": null,
            "right": null,
            "top": null,
            "visibility": null,
            "width": null
          }
        },
        "b81a8e9a0ccf46cc9e3e851a32ab9273": {
          "model_module": "@jupyter-widgets/controls",
          "model_name": "ProgressStyleModel",
          "model_module_version": "1.5.0",
          "state": {
            "_model_module": "@jupyter-widgets/controls",
            "_model_module_version": "1.5.0",
            "_model_name": "ProgressStyleModel",
            "_view_count": null,
            "_view_module": "@jupyter-widgets/base",
            "_view_module_version": "1.2.0",
            "_view_name": "StyleView",
            "bar_color": null,
            "description_width": ""
          }
        },
        "5e1843f9e30c442681b611a5485a81c2": {
          "model_module": "@jupyter-widgets/base",
          "model_name": "LayoutModel",
          "model_module_version": "1.2.0",
          "state": {
            "_model_module": "@jupyter-widgets/base",
            "_model_module_version": "1.2.0",
            "_model_name": "LayoutModel",
            "_view_count": null,
            "_view_module": "@jupyter-widgets/base",
            "_view_module_version": "1.2.0",
            "_view_name": "LayoutView",
            "align_content": null,
            "align_items": null,
            "align_self": null,
            "border": null,
            "bottom": null,
            "display": null,
            "flex": null,
            "flex_flow": null,
            "grid_area": null,
            "grid_auto_columns": null,
            "grid_auto_flow": null,
            "grid_auto_rows": null,
            "grid_column": null,
            "grid_gap": null,
            "grid_row": null,
            "grid_template_areas": null,
            "grid_template_columns": null,
            "grid_template_rows": null,
            "height": null,
            "justify_content": null,
            "justify_items": null,
            "left": null,
            "margin": null,
            "max_height": null,
            "max_width": null,
            "min_height": null,
            "min_width": null,
            "object_fit": null,
            "object_position": null,
            "order": null,
            "overflow": null,
            "overflow_x": null,
            "overflow_y": null,
            "padding": null,
            "right": null,
            "top": null,
            "visibility": null,
            "width": null
          }
        },
        "3c31fe42804d4c20a9cd687a087d9c56": {
          "model_module": "@jupyter-widgets/controls",
          "model_name": "DescriptionStyleModel",
          "model_module_version": "1.5.0",
          "state": {
            "_model_module": "@jupyter-widgets/controls",
            "_model_module_version": "1.5.0",
            "_model_name": "DescriptionStyleModel",
            "_view_count": null,
            "_view_module": "@jupyter-widgets/base",
            "_view_module_version": "1.2.0",
            "_view_name": "StyleView",
            "description_width": ""
          }
        },
        "82fd7ee1b7234924a7c6f37d4429cf44": {
          "model_module": "@jupyter-widgets/controls",
          "model_name": "HBoxModel",
          "model_module_version": "1.5.0",
          "state": {
            "_dom_classes": [],
            "_model_module": "@jupyter-widgets/controls",
            "_model_module_version": "1.5.0",
            "_model_name": "HBoxModel",
            "_view_count": null,
            "_view_module": "@jupyter-widgets/controls",
            "_view_module_version": "1.5.0",
            "_view_name": "HBoxView",
            "box_style": "",
            "children": [
              "IPY_MODEL_47491cad317f415aaf37fc025db9b139",
              "IPY_MODEL_24eddf50b5784dd9b9be9527e6c0835f",
              "IPY_MODEL_65c96d5804214027b021eb7b11c1593a"
            ],
            "layout": "IPY_MODEL_b94e2bf46fec4337b572e1702e1d03f7"
          }
        },
        "47491cad317f415aaf37fc025db9b139": {
          "model_module": "@jupyter-widgets/controls",
          "model_name": "HTMLModel",
          "model_module_version": "1.5.0",
          "state": {
            "_dom_classes": [],
            "_model_module": "@jupyter-widgets/controls",
            "_model_module_version": "1.5.0",
            "_model_name": "HTMLModel",
            "_view_count": null,
            "_view_module": "@jupyter-widgets/controls",
            "_view_module_version": "1.5.0",
            "_view_name": "HTMLView",
            "description": "",
            "description_tooltip": null,
            "layout": "IPY_MODEL_4741b4ab09b84d6399306bd589403c06",
            "placeholder": "​",
            "style": "IPY_MODEL_7314c2ab1853409bbb532878bc48d0d7",
            "value": "Downloading (…)olve/main/merges.txt: 100%"
          }
        },
        "24eddf50b5784dd9b9be9527e6c0835f": {
          "model_module": "@jupyter-widgets/controls",
          "model_name": "FloatProgressModel",
          "model_module_version": "1.5.0",
          "state": {
            "_dom_classes": [],
            "_model_module": "@jupyter-widgets/controls",
            "_model_module_version": "1.5.0",
            "_model_name": "FloatProgressModel",
            "_view_count": null,
            "_view_module": "@jupyter-widgets/controls",
            "_view_module_version": "1.5.0",
            "_view_name": "ProgressView",
            "bar_style": "success",
            "description": "",
            "description_tooltip": null,
            "layout": "IPY_MODEL_7970bfe84da64d6e866a3a813bb2a143",
            "max": 456318,
            "min": 0,
            "orientation": "horizontal",
            "style": "IPY_MODEL_b06f012dcec24dc4a46be4a8dceb6463",
            "value": 456318
          }
        },
        "65c96d5804214027b021eb7b11c1593a": {
          "model_module": "@jupyter-widgets/controls",
          "model_name": "HTMLModel",
          "model_module_version": "1.5.0",
          "state": {
            "_dom_classes": [],
            "_model_module": "@jupyter-widgets/controls",
            "_model_module_version": "1.5.0",
            "_model_name": "HTMLModel",
            "_view_count": null,
            "_view_module": "@jupyter-widgets/controls",
            "_view_module_version": "1.5.0",
            "_view_name": "HTMLView",
            "description": "",
            "description_tooltip": null,
            "layout": "IPY_MODEL_947eb014aed249338076552b00128343",
            "placeholder": "​",
            "style": "IPY_MODEL_d2702c7e9c8b4d2e99a6dbcdaaa9a731",
            "value": " 456k/456k [00:00&lt;00:00, 2.22MB/s]"
          }
        },
        "b94e2bf46fec4337b572e1702e1d03f7": {
          "model_module": "@jupyter-widgets/base",
          "model_name": "LayoutModel",
          "model_module_version": "1.2.0",
          "state": {
            "_model_module": "@jupyter-widgets/base",
            "_model_module_version": "1.2.0",
            "_model_name": "LayoutModel",
            "_view_count": null,
            "_view_module": "@jupyter-widgets/base",
            "_view_module_version": "1.2.0",
            "_view_name": "LayoutView",
            "align_content": null,
            "align_items": null,
            "align_self": null,
            "border": null,
            "bottom": null,
            "display": null,
            "flex": null,
            "flex_flow": null,
            "grid_area": null,
            "grid_auto_columns": null,
            "grid_auto_flow": null,
            "grid_auto_rows": null,
            "grid_column": null,
            "grid_gap": null,
            "grid_row": null,
            "grid_template_areas": null,
            "grid_template_columns": null,
            "grid_template_rows": null,
            "height": null,
            "justify_content": null,
            "justify_items": null,
            "left": null,
            "margin": null,
            "max_height": null,
            "max_width": null,
            "min_height": null,
            "min_width": null,
            "object_fit": null,
            "object_position": null,
            "order": null,
            "overflow": null,
            "overflow_x": null,
            "overflow_y": null,
            "padding": null,
            "right": null,
            "top": null,
            "visibility": null,
            "width": null
          }
        },
        "4741b4ab09b84d6399306bd589403c06": {
          "model_module": "@jupyter-widgets/base",
          "model_name": "LayoutModel",
          "model_module_version": "1.2.0",
          "state": {
            "_model_module": "@jupyter-widgets/base",
            "_model_module_version": "1.2.0",
            "_model_name": "LayoutModel",
            "_view_count": null,
            "_view_module": "@jupyter-widgets/base",
            "_view_module_version": "1.2.0",
            "_view_name": "LayoutView",
            "align_content": null,
            "align_items": null,
            "align_self": null,
            "border": null,
            "bottom": null,
            "display": null,
            "flex": null,
            "flex_flow": null,
            "grid_area": null,
            "grid_auto_columns": null,
            "grid_auto_flow": null,
            "grid_auto_rows": null,
            "grid_column": null,
            "grid_gap": null,
            "grid_row": null,
            "grid_template_areas": null,
            "grid_template_columns": null,
            "grid_template_rows": null,
            "height": null,
            "justify_content": null,
            "justify_items": null,
            "left": null,
            "margin": null,
            "max_height": null,
            "max_width": null,
            "min_height": null,
            "min_width": null,
            "object_fit": null,
            "object_position": null,
            "order": null,
            "overflow": null,
            "overflow_x": null,
            "overflow_y": null,
            "padding": null,
            "right": null,
            "top": null,
            "visibility": null,
            "width": null
          }
        },
        "7314c2ab1853409bbb532878bc48d0d7": {
          "model_module": "@jupyter-widgets/controls",
          "model_name": "DescriptionStyleModel",
          "model_module_version": "1.5.0",
          "state": {
            "_model_module": "@jupyter-widgets/controls",
            "_model_module_version": "1.5.0",
            "_model_name": "DescriptionStyleModel",
            "_view_count": null,
            "_view_module": "@jupyter-widgets/base",
            "_view_module_version": "1.2.0",
            "_view_name": "StyleView",
            "description_width": ""
          }
        },
        "7970bfe84da64d6e866a3a813bb2a143": {
          "model_module": "@jupyter-widgets/base",
          "model_name": "LayoutModel",
          "model_module_version": "1.2.0",
          "state": {
            "_model_module": "@jupyter-widgets/base",
            "_model_module_version": "1.2.0",
            "_model_name": "LayoutModel",
            "_view_count": null,
            "_view_module": "@jupyter-widgets/base",
            "_view_module_version": "1.2.0",
            "_view_name": "LayoutView",
            "align_content": null,
            "align_items": null,
            "align_self": null,
            "border": null,
            "bottom": null,
            "display": null,
            "flex": null,
            "flex_flow": null,
            "grid_area": null,
            "grid_auto_columns": null,
            "grid_auto_flow": null,
            "grid_auto_rows": null,
            "grid_column": null,
            "grid_gap": null,
            "grid_row": null,
            "grid_template_areas": null,
            "grid_template_columns": null,
            "grid_template_rows": null,
            "height": null,
            "justify_content": null,
            "justify_items": null,
            "left": null,
            "margin": null,
            "max_height": null,
            "max_width": null,
            "min_height": null,
            "min_width": null,
            "object_fit": null,
            "object_position": null,
            "order": null,
            "overflow": null,
            "overflow_x": null,
            "overflow_y": null,
            "padding": null,
            "right": null,
            "top": null,
            "visibility": null,
            "width": null
          }
        },
        "b06f012dcec24dc4a46be4a8dceb6463": {
          "model_module": "@jupyter-widgets/controls",
          "model_name": "ProgressStyleModel",
          "model_module_version": "1.5.0",
          "state": {
            "_model_module": "@jupyter-widgets/controls",
            "_model_module_version": "1.5.0",
            "_model_name": "ProgressStyleModel",
            "_view_count": null,
            "_view_module": "@jupyter-widgets/base",
            "_view_module_version": "1.2.0",
            "_view_name": "StyleView",
            "bar_color": null,
            "description_width": ""
          }
        },
        "947eb014aed249338076552b00128343": {
          "model_module": "@jupyter-widgets/base",
          "model_name": "LayoutModel",
          "model_module_version": "1.2.0",
          "state": {
            "_model_module": "@jupyter-widgets/base",
            "_model_module_version": "1.2.0",
            "_model_name": "LayoutModel",
            "_view_count": null,
            "_view_module": "@jupyter-widgets/base",
            "_view_module_version": "1.2.0",
            "_view_name": "LayoutView",
            "align_content": null,
            "align_items": null,
            "align_self": null,
            "border": null,
            "bottom": null,
            "display": null,
            "flex": null,
            "flex_flow": null,
            "grid_area": null,
            "grid_auto_columns": null,
            "grid_auto_flow": null,
            "grid_auto_rows": null,
            "grid_column": null,
            "grid_gap": null,
            "grid_row": null,
            "grid_template_areas": null,
            "grid_template_columns": null,
            "grid_template_rows": null,
            "height": null,
            "justify_content": null,
            "justify_items": null,
            "left": null,
            "margin": null,
            "max_height": null,
            "max_width": null,
            "min_height": null,
            "min_width": null,
            "object_fit": null,
            "object_position": null,
            "order": null,
            "overflow": null,
            "overflow_x": null,
            "overflow_y": null,
            "padding": null,
            "right": null,
            "top": null,
            "visibility": null,
            "width": null
          }
        },
        "d2702c7e9c8b4d2e99a6dbcdaaa9a731": {
          "model_module": "@jupyter-widgets/controls",
          "model_name": "DescriptionStyleModel",
          "model_module_version": "1.5.0",
          "state": {
            "_model_module": "@jupyter-widgets/controls",
            "_model_module_version": "1.5.0",
            "_model_name": "DescriptionStyleModel",
            "_view_count": null,
            "_view_module": "@jupyter-widgets/base",
            "_view_module_version": "1.2.0",
            "_view_name": "StyleView",
            "description_width": ""
          }
        }
      }
    }
  },
  "nbformat": 4,
  "nbformat_minor": 0
}